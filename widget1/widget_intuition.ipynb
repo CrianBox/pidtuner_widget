{
 "cells": [
  {
   "cell_type": "markdown",
   "metadata": {},
   "source": [
    "# Train je PID afstelvaardigheden"
   ]
  },
  {
   "cell_type": "code",
   "execution_count": 1,
   "metadata": {},
   "outputs": [],
   "source": [
    "import numpy as np\n",
    "import ipywidgets as widgets\n",
    "\n",
    "from __future__ import print_function\n",
    "from ipywidgets import interact, interactive, fixed, interact_manual\n",
    "\n",
    "import control as c\n",
    "from control.matlab import * \n",
    "\n",
    "# %matplotlib inline\n",
    "import matplotlib.pyplot as plt\n",
    "\n",
    "from functions import *"
   ]
  },
  {
   "cell_type": "markdown",
   "metadata": {},
   "source": [
    "## Eigenschappen van het procesmodel \n",
    "\n",
    "Transferfuncties zijn een onlosmakend onderdeel van veel regellus analyses, model identificatie en regelaarsyntheses. \n",
    "We gaan niet in detail de wiskundige achtergrond bekijken maar tonen het effect aan van elke variabele in de vergelijking."
   ]
  },
  {
   "cell_type": "code",
   "execution_count": 2,
   "metadata": {},
   "outputs": [
    {
     "name": "stdout",
     "output_type": "stream",
     "text": [
      "Proces:\n"
     ]
    },
    {
     "data": {
      "application/vnd.jupyter.widget-view+json": {
       "model_id": "5a767eed0e4944d88b6195780ecd5edd",
       "version_major": 2,
       "version_minor": 0
      },
      "text/plain": [
       "HBox(children=(VBox(children=(FloatSlider(value=1.0, description='z0', max=5.0), FloatSlider(value=1.0, descri…"
      ]
     },
     "metadata": {},
     "output_type": "display_data"
    }
   ],
   "source": [
    "# parameters\n",
    "minim = 0\n",
    "maxim = 5\n",
    "steps = 0.1\n",
    "z0 = widgets.FloatSlider(description = 'z0', value=1, min=minim, max=maxim)\n",
    "z1 = widgets.FloatSlider(description = 'z1', value=1, min=minim, max=maxim)\n",
    "p0 = widgets.FloatSlider(description = 'p0', value=1, min=minim, max=maxim)\n",
    "p1 = widgets.FloatSlider(description = 'p1', value=1, min=minim, max=maxim)\n",
    "p2 = widgets.FloatSlider(description = 'p2',  value=1, min=minim, max=maxim)\n",
    "dodet = widgets.FloatSlider(description = 'dodet', value=0, min=minim, max=maxim)\n",
    "\n",
    "# Visualiseer\n",
    "print('Proces:')\n",
    "out = widgets.interactive_output(f,\n",
    "                                 {'z0': z0,\n",
    "                                  'z1': z1,\n",
    "                                  'p0': p0,\n",
    "                                 'p1': p1,\n",
    "                                 'p2': p2,\n",
    "                                 'dodet': dodet})\n",
    "widgets.HBox([widgets.VBox([z0, z1, p0, p1, p2, dodet]), out])"
   ]
  },
  {
   "cell_type": "markdown",
   "metadata": {},
   "source": [
    "## Intuïtie training\n",
    "\n",
    "Maak een gewenst procesmodel welke je wenst te regelen. Let op: niet alle procesmodellen zijn controleerbaar met PID!\n",
    "Pas daarna de PID waardes aan waarbij het systeem reageert met een gewenst stapantwoord."
   ]
  },
  {
   "cell_type": "code",
   "execution_count": 3,
   "metadata": {},
   "outputs": [
    {
     "data": {
      "application/vnd.jupyter.widget-view+json": {
       "model_id": "2d89a463cac0418397ae131404755b65",
       "version_major": 2,
       "version_minor": 0
      },
      "text/plain": [
       "HBox(children=(VBox(children=(FloatSlider(value=1.0, description='z0', max=5.0), FloatSlider(value=1.0, descri…"
      ]
     },
     "metadata": {},
     "output_type": "display_data"
    }
   ],
   "source": [
    "z0 = widgets.FloatSlider(description = 'z0', value=1, min=minim, max=maxim)\n",
    "z1 = widgets.FloatSlider(description = 'z1', value=1, min=minim, max=maxim)\n",
    "p0 = widgets.FloatSlider(description = 'p0', value=1, min=minim, max=maxim)\n",
    "p1 = widgets.FloatSlider(description = 'p1', value=1, min=minim, max=maxim)\n",
    "p2 = widgets.FloatSlider(description = 'p2',  value=1, min=minim, max=maxim)\n",
    "dodet = widgets.FloatSlider(description = 'dodet', value=0, min=minim, max=maxim)\n",
    "\n",
    "Kp = widgets.FloatSlider(description = 'Proportioneel', value=1, min=minim, max=maxim)\n",
    "Ti = widgets.FloatSlider(description = 'Intergratietijd', value=1, min=0, max=100)\n",
    "Td = widgets.FloatSlider(description = 'Afgeleidetijd', value=1, min=0, max=100)\n",
    "\n",
    "out = widgets.interactive_output(vis_sys_tune,\n",
    "                                 {'z0': z0,\n",
    "                                  'z1': z1,\n",
    "                                  'p0': p0,\n",
    "                                 'p1': p1,\n",
    "                                 'p2': p2,\n",
    "                                 'dodet': dodet,\n",
    "                                  'Kp': Kp, \n",
    "                                  'Ti': Ti, \n",
    "                                  'Td': Td})\n",
    "\n",
    "widgets.HBox([widgets.VBox([z0, z1, p0, p1, p2, dodet, Kp, Ti, Td]), out])"
   ]
  },
  {
   "cell_type": "markdown",
   "metadata": {},
   "source": [
    "Bij het verslepen van de sliders flikkeren de grafieken. De ingestelde waardes worden telkens opnieuw ingevuld. Dit is normaal gedrag."
   ]
  },
  {
   "cell_type": "markdown",
   "metadata": {},
   "source": [
    "# Bronnen \n",
    "\n",
    "* https://ipywidgets.readthedocs.io/en/stable/examples/Using%20Interact.html\n",
    "* https://python-control.readthedocs.io/en/0.8.3/conventions.html1\n",
    "* https://www.youtube.com/watch?v=8IYbdshUd9c\n"
   ]
  }
 ],
 "metadata": {
  "kernelspec": {
   "display_name": "Python 3",
   "language": "python",
   "name": "python3"
  },
  "language_info": {
   "codemirror_mode": {
    "name": "ipython",
    "version": 3
   },
   "file_extension": ".py",
   "mimetype": "text/x-python",
   "name": "python",
   "nbconvert_exporter": "python",
   "pygments_lexer": "ipython3",
   "version": "3.9.2"
  }
 },
 "nbformat": 4,
 "nbformat_minor": 2
}
