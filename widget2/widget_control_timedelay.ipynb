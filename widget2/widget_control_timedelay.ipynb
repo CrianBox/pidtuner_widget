{
 "cells": [
  {
   "cell_type": "markdown",
   "metadata": {},
   "source": [
    "# Hulpprogramma \"dode tijd compenstatie\"\n",
    "Compenstatie is noodzakelijk wanneer dode tijd een significant deel uitmaakt van een proces. Verschillend onderzoek geeft een verscheidenheid aan informatie en procedures wat het praktisch opstellen van een regelaar bemoeilijkt. We maken de brug van theorie naar praktijk door de tabellen en ontwerpstappen om te vormen in een script. Wat het PID design gemakkelijker maakt en tijd bespaart.\n",
    "\n",
    "## Handleiding\n",
    "* Elke blok kan je 'runnen' met CRTL+ENTER. \n",
    "* Elke blok vervult een functie welke staat beschreven in de notities\n",
    "\n",
    "## Volgorde\n",
    "* Keuze van procesmodel\n",
    "* Ingeven van parameters\n",
    "* Creatie van regelaar(s)\n",
    "* Visualisatie"
   ]
  },
  {
   "cell_type": "code",
   "execution_count": 1,
   "metadata": {},
   "outputs": [],
   "source": [
    "#Import libraries\n",
    "\n",
    "from __future__ import print_function\n",
    "from ipywidgets import interact, interactive, fixed, interact_manual\n",
    "\n",
    "import control as c\n",
    "from control.matlab import * \n",
    "\n",
    "%matplotlib inline\n",
    "import matplotlib.pyplot as plt\n",
    "\n",
    "import numpy as np\n",
    "import math\n",
    "import ipywidgets as widgets\n",
    "from widget_functions import *\n",
    "\n",
    "import webbrowser\n",
    "sysidlink = \"https://keen-leavitt-dde150.netlify.app/guide/03_systeem_theorie/#identificatie\"\n",
    "\n"
   ]
  },
  {
   "cell_type": "code",
   "execution_count": 2,
   "metadata": {},
   "outputs": [],
   "source": [
    "# Widget input\n",
    "\n",
    "plantchoice = widgets.RadioButtons(\n",
    "    options=['FOPTD','PTD','IPTD','IFOPTD','DIPTD', 'geen idee'],\n",
    "    description='soorten procesmodellen: ',\n",
    "    disable=False\n",
    "    )\n",
    "\n",
    "sys_response = widgets.RadioButtons(\n",
    "    options=['Stapantwoord','Setpoint-tracking','Sensitiviteit verstoring','Algemene prestaties'],\n",
    "    description='Plot prestatie',\n",
    "    disable=False\n",
    "    )\n",
    "\n",
    "# Functions\n",
    " \n",
    "def instructions(plantchoice):\n",
    "    \"\"\"Deze functie bekijkt het gekozen model en start het daarbijhorend stappenplan op.\"\"\"\n",
    "    if plantchoice.value == 'geen idee':\n",
    "        webbrowser.open(sysidlink,new=0)\n",
    "    elif plantchoice.value == 'FOPTD':\n",
    "        azamfar_markazi_foptd()\n",
    "    elif plantchoice.value == 'PTD':\n",
    "        print(\"Let op: tau = 1\")\n",
    "        azamfar_markazi_foptd()\n",
    "    elif plantchoice.value == 'IPTD':\n",
    "        azamfar_markazi_iptd()\n",
    "    else:\n",
    "        print('Nog geen code')\n",
    "        \n",
    "############## azamfar_markazi formulae ###########\n",
    "def azamfar_markazi_foptd():\n",
    "    \"\"\"Berekend voor een FOPTD (eerste orde pure dode tijd) de daarbijhorende\n",
    "    regelaars en bouwt het systeem (sys) in een transferfunctie structuur.\n",
    "    De transferfuncties worden globaal overschreven.\"\"\"\n",
    "    # Global declaratie\n",
    "    global C\n",
    "    global G\n",
    "    global T\n",
    "    global Gtilde\n",
    "    global sys\n",
    "    global sys_ref\n",
    "    # Input\n",
    "    print(\"Je hebt een FOPTD model. Haal uit het model de volgende waardes.\")\n",
    "    k = float(input(\"De k-waarde is: \"))\n",
    "    tau = float(input(\"Tau (de tijdsconstante) is: \"))\n",
    "    theta = float(input(\"De vertraging (seconden) is: \"))\n",
    "    beta = float(input(\"Kies een beta-waarde: \"))\n",
    "    # Parameters\n",
    "    alpha = 0.4 \n",
    "    # Tabelparameters\n",
    "    k_p = alpha * (theta + beta)\n",
    "    k_d = 0.724 / (k * (theta + beta))\n",
    "    lamb = 0.04 * (theta + beta) \n",
    "                  \n",
    "    # bereken het proces\n",
    "    G = ontw_proces(k, 0, 1, tau, 0, theta)\n",
    "    G_ = ontw_proces(k, 0, 1, tau, 0, 0)    #zonder dode tijd\n",
    "    print(\"Het procesmodel: \", G_)\n",
    "    # bereken de PID regelaar (C) adhv specifieke vergelijking\n",
    "    s = c.tf('s')\n",
    "    C = k_d * (1 / (beta*s + 1)) * ((tau*s + 1) / (s*(lamb*s + 1)))\n",
    "    print(\"De controller C(s): \", C)\n",
    "    # bereken de interne regelaar (T) adhv specifieke vergelijking\n",
    "    T = 0 # in het geval van FOPTD\n",
    "    # bereken de FF regelaar (Gtilde) adhv specifieke vergelijking\n",
    "    Gtilde = k_p * ((k * s) / (tau*s + 1))\n",
    "    Gdelay = c.pade(theta,10)\n",
    "    dnum = Gdelay[0]\n",
    "    dden = Gdelay[1]\n",
    "    Gdelay = c.tf(dnum,dden)\n",
    "    Gtilde = c.series(Gtilde,Gdelay)\n",
    "\n",
    "    # maak de regellus\n",
    "    sys_ref = build_controlstructure_fb(C,G)\n",
    "    sys = build_controlstructure_azamfar_markazi(C, G, T, Gtilde)\n",
    "    print(\"Het systeem 'sys' werd gegenereerd en is klaar voor gebruik!\")\n",
    "    \n",
    "                  \n",
    "def azamfar_markazi_iptd():\n",
    "    \"\"\"Berekend voor een IPTD (integraal pure dode tijd) de daarbijhorende\n",
    "    regelaars en bouwt het systeem (sys) in een transferfunctie structuur.\n",
    "    De transferfuncties worden globaal overschreven.\"\"\"\n",
    "    # Global declaratie\n",
    "    global C\n",
    "    global G\n",
    "    global T\n",
    "    global Gtilde\n",
    "    global sys\n",
    "    global sys_ref\n",
    "    # Input\n",
    "    print(\"Je hebt een IPTD model. Haal uit het model de volgende waardes.\")\n",
    "    k = float(input(\"De k-waarde is: \"))\n",
    "    theta = float(input(\"De vertraging (seconden) is: \"))\n",
    "    beta = float(input(\"Kies een beta-waarde: \"))\n",
    "    # Parameters\n",
    "    alpha = 0.4 \n",
    "    # Tabelparameters\n",
    "    k_p = alpha * (theta + beta)\n",
    "    k_i = 0.5236 / (k * theta)\n",
    "    k_d = 0.724 / (k * (theta + beta))\n",
    "    lamb = 0.04 * (theta + beta) \n",
    "                  \n",
    "    # bereken het proces\n",
    "    G = ontw_proces(k, 0, 0, 1, 0, theta)\n",
    "    G = ontw_proces(k, 0, 0, 1, 0, 0)\n",
    "    print(\"Het procesmodel: \", G_)\n",
    "    # bereken de dode tijd\n",
    "    Gdelay = c.pade(theta,10)\n",
    "    dnum = Gdelay[0]\n",
    "    dden = Gdelay[1]\n",
    "    Gdelay = c.tf(dnum,dden)\n",
    "    # bereken de PID regelaar (C) adhv specifieke vergelijking\n",
    "    s = c.tf('s')\n",
    "    C = k_d * (1 / (beta*s + 1)) * (1 + ((0.5236 / (theta*s + 1))*Gdelay) / (lamb*s + 1))\n",
    "    print(\"De controller C(s): \", C)\n",
    "    # bereken de interne regelaar (T) adhv specifieke vergelijking\n",
    "    T = k_i \n",
    "    # bereken de FF regelaar (Gtilde) adhv specifieke vergelijking\n",
    "    Gtilde = k_p * k * ((Gdelay) / (1 + (0.5236/(theta*s))*Gdelay))\n",
    "\n",
    "    # maak de regellus\n",
    "    sys_ref = build_controlstructure_fb(C,G)\n",
    "    sys = build_controlstructure_azamfar_markazi(C, G, T, Gtilde)\n",
    "    print(\"Het systeem 'sys' werd gegenereerd en is klaar voor gebruik!\")\n",
    "    \n",
    "def build_controlstructure_fb(C,G):\n",
    "    CG = c.series(C,G)\n",
    "    sys_ref = c.feedback(CG,1,sign=-1)\n",
    "    return sys_ref\n",
    "\n",
    "def build_controlstructure_azamfar_markazi(C, G, T, Gtilde):\n",
    "    \"\"\"Combines calculated C, G, T and Gtilde and makes the full control system \n",
    "    specified in \"Simple Formulae for control of industrial time delay systems\"\n",
    "    writen by Moslem Azamfar and Amir H. D. Markazi\"\"\"\n",
    "    global sys\n",
    "    GT_fb = c.feedback(G,T,sign=-1)\n",
    "    CGT_fb = c.series(C,GT_fb)\n",
    "    Gtilde_frac = Gtilde / GT_fb\n",
    "    sys = c.feedback(CGT_fb,Gtilde_frac,sign=-1)\n",
    "    sys = c.feedback(sys,1,sign=-1)   \n",
    "    return sys\n",
    "\n",
    "############## plot system performance ###########\n",
    "def plot_prest(sys_response):\n",
    "    \"\"\"Deze functie leest de gevraagde visualisatie en geeft deze weer.\"\"\"\n",
    "    if sys_response.value == 'Stapantwoord':\n",
    "#         sys_step()\n",
    "        tsys, ysys = c.step_response(sys)\n",
    "        tG, yG = c.step_response(sys_ref)\n",
    "        plt.plot(tsys,ysys)\n",
    "        plt.plot(tG, yG)\n",
    "        stop = 20\n",
    "        plt.xlim([0,stop])\n",
    "        # plt.ylim([0,max(y)])\n",
    "        plt.title('Stapantwoord')\n",
    "        plt.legend(['controlled system','uncontrolled system'])\n",
    "    elif sys_response.value == 'Setpoint-tracking':\n",
    "#         sys_step_custom()\n",
    "        dt = 1\n",
    "        stop = 200\n",
    "        T = np.arange(0,stop,dt)\n",
    "        step_init = 20\n",
    "        step_size = 50\n",
    "        U = step_init*np.ones(stop)\n",
    "        section = int(stop/2)\n",
    "        for i in range(section):\n",
    "            U[-i-1] = step_init + step_size\n",
    "    #         section = int(stop/4)\n",
    "    #         for i in range(section):\n",
    "    #             U[-i-1] = 0\n",
    "        t, y = c.forced_response(sys,T,U)\n",
    "        tG, yG = c.forced_response(sys_ref,T,U)\n",
    "\n",
    "        plt.plot(U)\n",
    "        plt.plot(y)\n",
    "        plt.plot(yG)\n",
    "        plt.xlim([0,stop])\n",
    "        plt.ylim([0,(step_init+step_size)*1.5])\n",
    "        plt.xlabel('time[s]')\n",
    "        plt.ylabel('amplitude')\n",
    "        plt.title('Setpoint-tracking')\n",
    "        plt.legend(['input', 'output_controlled','output_uncontrolled']) \n",
    "    elif sys_response.value == 'Sensitiviteit verstoring':\n",
    "#         sys_dist_resp()\n",
    "        dt = 1\n",
    "        stop = 10\n",
    "        T = np.arange(0,stop,dt)\n",
    "        U = np.sin(10*T+1.2)   #distrubance rejection\n",
    "        t, y = c.forced_response(sys,T,U)\n",
    "        tG, yG = c.forced_response(sys_ref,T,U)\n",
    "        plt.plot(U)\n",
    "        plt.plot(y)\n",
    "        plt.plot(yG)\n",
    "        plt.xlim([0,stop])\n",
    "        plt.xlabel('time[s]')\n",
    "        plt.ylabel('amplitude')\n",
    "        plt.title('distrubance rejection')\n",
    "        plt.legend(['input', 'output_controlled','output_uncontrolled']) \n",
    "    elif sys_response.value == 'Algemene prestaties': \n",
    "#         sys_perf()\n",
    "        gm, pm, wg, wp = margin(sys)\n",
    "        print(\"De versterkingsmarge (GM) is: \", gm)\n",
    "        print(\"De fasemarge (PM) is: \", pm)\n",
    "        print(\"De frequentie op de frequentie-crossover (-180°) is: \", gm)\n",
    "        print(\"De frequentie op de versterkingsmarge (-1) is: \", pm)              \n",
    "        plt.figure(10)\n",
    "        c.gangof4_plot(C,G)\n",
    "        plt.figure(20)\n",
    "        c.bode_plot(sys)\n",
    "        plt.figure(30)\n",
    "        c.nyquist_plot(sys)\n",
    "        plt.figure(40)\n",
    "        c.nichols_plot(sys)\n",
    "    else:\n",
    "        print(\"Er is hier niets\")\n",
    "\n",
    "# def sys_step():\n",
    "    \n",
    "    \n",
    "# def sys_step_custom():\n",
    "  \n",
    "\n",
    "# def sys_dist_resp():\n",
    "    \n",
    "\n",
    "# def sys_perf():\n",
    "           "
   ]
  },
  {
   "cell_type": "markdown",
   "metadata": {},
   "source": [
    "![control_smith_adv.jpg](./images/control_smith_adv.jpg)"
   ]
  },
  {
   "cell_type": "code",
   "execution_count": 3,
   "metadata": {},
   "outputs": [
    {
     "data": {
      "application/vnd.jupyter.widget-view+json": {
       "model_id": "53b6f7b13fc24052833a7d72dfafa2ae",
       "version_major": 2,
       "version_minor": 0
      },
      "text/plain": [
       "RadioButtons(description='soorten procesmodellen: ', options=('FOPTD', 'PTD', 'IPTD', 'IFOPTD', 'DIPTD', 'geen…"
      ]
     },
     "metadata": {},
     "output_type": "display_data"
    }
   ],
   "source": [
    "# Kies het soort procesmodel die je uit de systeemidentificatie haalde.\n",
    "plantchoice"
   ]
  },
  {
   "cell_type": "code",
   "execution_count": 4,
   "metadata": {},
   "outputs": [
    {
     "name": "stdout",
     "output_type": "stream",
     "text": [
      "Je hebt een FOPTD model. Haal uit het model de volgende waardes.\n",
      "De k-waarde is: 5\n",
      "Tau (de tijdsconstante) is: 1000\n",
      "De vertraging (seconden) is: 1\n",
      "Kies een beta-waarde: 0.1\n",
      "Het procesmodel:  \n",
      "    5\n",
      "----------\n",
      "1000 s + 1\n",
      "\n",
      "De controller C(s):  \n",
      "     131.6 s + 0.1316\n",
      "--------------------------\n",
      "0.0044 s^3 + 0.144 s^2 + s\n",
      "\n",
      "Het systeem 'sys' werd gegenereerd en is klaar voor gebruik!\n"
     ]
    }
   ],
   "source": [
    "instructions(plantchoice)"
   ]
  },
  {
   "cell_type": "code",
   "execution_count": 10,
   "metadata": {},
   "outputs": [
    {
     "data": {
      "application/vnd.jupyter.widget-view+json": {
       "model_id": "8ed3739d847d47a5bcc8dc859bed3d58",
       "version_major": 2,
       "version_minor": 0
      },
      "text/plain": [
       "RadioButtons(description='Plot prestatie', index=1, options=('Stapantwoord', 'Setpoint-tracking', 'Sensitivite…"
      ]
     },
     "metadata": {},
     "output_type": "display_data"
    }
   ],
   "source": [
    "sys_response"
   ]
  },
  {
   "cell_type": "code",
   "execution_count": 11,
   "metadata": {},
   "outputs": [
    {
     "data": {
      "text/plain": [
       "'Setpoint-tracking'"
      ]
     },
     "execution_count": 11,
     "metadata": {},
     "output_type": "execute_result"
    }
   ],
   "source": [
    "sys_response.value"
   ]
  },
  {
   "cell_type": "code",
   "execution_count": 12,
   "metadata": {},
   "outputs": [
    {
     "data": {
      "image/png": "[encoded data removed]",
      "text/plain": [
       "<Figure size 432x288 with 1 Axes>"
      ]
     },
     "metadata": {
      "needs_background": "light"
     },
     "output_type": "display_data"
    }
   ],
   "source": [
    "plot_prest(sys_response)"
   ]
  },
  {
   "cell_type": "code",
   "execution_count": 28,
   "metadata": {},
   "outputs": [
    {
     "data": {
      "text/plain": [
       "<matplotlib.legend.Legend at 0x7f71858929d0>"
      ]
     },
     "execution_count": 28,
     "metadata": {},
     "output_type": "execute_result"
    },
    {
     "data": {
      "image/png": "[encoded data removed]",
      "text/plain": [
       "<Figure size 432x288 with 1 Axes>"
      ]
     },
     "metadata": {
      "needs_background": "light"
     },
     "output_type": "display_data"
    }
   ],
   "source": [
    "t, y = c.step_response(C)\n",
    "tt, yy = c.step_response(c.tf([689.5, 0.6895],[1, 0]))\n",
    "plt.plot(t,y)\n",
    "plt.plot(tt,yy)\n",
    "plt.legend(['real','est'])"
   ]
  },
  {
   "cell_type": "code",
   "execution_count": 30,
   "metadata": {},
   "outputs": [
    {
     "data": {
      "text/plain": [
       "[[array([689.52380952,   0.68952381])]]"
      ]
     },
     "execution_count": 30,
     "metadata": {},
     "output_type": "execute_result"
    }
   ],
   "source": [
    "# Calculate Kp, Ki and Kd for a resulting controller C\n",
    "C.num\n",
    "C.den\n"
   ]
  }
 ],
 "metadata": {
  "kernelspec": {
   "display_name": "Python 3",
   "language": "python",
   "name": "python3"
  },
  "language_info": {
   "codemirror_mode": {
    "name": "ipython",
    "version": 3
   },
   "file_extension": ".py",
   "mimetype": "text/x-python",
   "name": "python",
   "nbconvert_exporter": "python",
   "pygments_lexer": "ipython3",
   "version": "3.9.2"
  }
 },
 "nbformat": 4,
 "nbformat_minor": 2
}
