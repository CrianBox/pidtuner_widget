{
 "cells": [
  {
   "cell_type": "markdown",
   "metadata": {},
   "source": [
    "# Hulpprogramma \"dode tijd compenstatie\"\n",
    "Compenstatie is noodzakelijk wanneer dode tijd een significant deel uitmaakt van een proces. Verschillend onderzoek geeft een verscheidenheid aan informatie en procedures wat het praktisch opstellen van een regelaar bemoeilijkt. We maken de brug van theorie naar praktijk door de tabellen en ontwerpstappen om te vormen in een script. Wat het PID design gemakkelijker maakt en tijd bespaart.\n",
    "\n",
    "## Handleiding\n",
    "* Elke blok kan je 'runnen' met CRTL+ENTER. \n",
    "* Elke blok vervult een functie welke staat beschreven in de notities\n",
    "\n",
    "## Volgorde\n",
    "* Keuze van procesmodel\n",
    "* Ingeven van parameters\n",
    "* Creatie van regelaar(s)\n",
    "* Visualisatie"
   ]
  },
  {
   "cell_type": "code",
   "execution_count": 3,
   "metadata": {},
   "outputs": [],
   "source": [
    "#Import libraries\n",
    "\n",
    "from __future__ import print_function\n",
    "from ipywidgets import interact, interactive, fixed, interact_manual\n",
    "\n",
    "import control as c\n",
    "from control.matlab import * \n",
    "\n",
    "%matplotlib inline\n",
    "import matplotlib.pyplot as plt\n",
    "\n",
    "import numpy as np\n",
    "import math\n",
    "import ipywidgets as widgets\n",
    "from widget_functions import *\n",
    "\n",
    "import webbrowser\n",
    "sysidlink = \"https://keen-leavitt-dde150.netlify.app/guide/03_systeem_theorie/#identificatie\"\n",
    "\n"
   ]
  },
  {
   "cell_type": "code",
   "execution_count": 4,
   "metadata": {},
   "outputs": [],
   "source": [
    "# Widget input\n",
    "\n",
    "plantchoice = widgets.RadioButtons(\n",
    "    options=['FOPTD','PTD','IPTD','IFOPTD','DIPTD', 'geen idee'],\n",
    "    description='soorten procesmodellen: ',\n",
    "    disable=False\n",
    "    )\n",
    "\n",
    "sys_response = widgets.RadioButtons(\n",
    "    options=['Stapantwoord','Setpoint-tracking','Sensitiviteit verstoring','Algemene prestaties'],\n",
    "    description='Plot prestatie',\n",
    "    disable=False\n",
    "    )\n",
    "\n",
    "# Functions\n",
    " \n",
    "def instructions(plantchoice):\n",
    "    \"\"\"Deze functie bekijkt het gekozen model en start het daarbijhorend stappenplan op.\"\"\"\n",
    "    if plantchoice.value == 'geen idee':\n",
    "        webbrowser.open(sysidlink,new=0)\n",
    "    elif plantchoice.value == 'FOPTD':\n",
    "        azamfar_markazi_foptd()\n",
    "    elif plantchoice.value == 'PTD':\n",
    "        print(\"Let op: tau = 1\")\n",
    "        azamfar_markazi_foptd()\n",
    "    elif plantchoice.value == 'IPTD':\n",
    "        azamfar_markazi_iptd()\n",
    "    else:\n",
    "        print('Nog geen code')\n",
    "        \n",
    "############## azamfar_markazi formulae ###########\n",
    "def azamfar_markazi_foptd():\n",
    "    \"\"\"Berekend voor een FOPTD (eerste orde pure dode tijd) de daarbijhorende\n",
    "    regelaars en bouwt het systeem (sys) in een transferfunctie structuur.\n",
    "    De transferfuncties worden globaal overschreven.\"\"\"\n",
    "    # Global declaratie\n",
    "    global C\n",
    "    global G\n",
    "    global T\n",
    "    global Gtilde\n",
    "    global sys\n",
    "    global sys_ref\n",
    "    # Input\n",
    "    print(\"Je hebt een FOPTD model. Haal uit het model de volgende waardes.\")\n",
    "    k = float(input(\"De k-waarde is: \"))\n",
    "    tau = float(input(\"Tau (de tijdsconstante) is: \"))\n",
    "    theta = float(input(\"De vertraging (seconden) is: \"))\n",
    "    beta = float(input(\"Kies een beta-waarde: \"))\n",
    "    # Parameters\n",
    "    alpha = 0.4 \n",
    "    # Tabelparameters\n",
    "    k_p = alpha * (theta + beta)\n",
    "    k_d = 0.724 / (k * (theta + beta))\n",
    "    lamb = 0.04 * (theta + beta) \n",
    "                  \n",
    "    # bereken het proces\n",
    "    G = ontw_proces(k, 0, 1, tau, 0, theta)\n",
    "    G_ = ontw_proces(k, 0, 1, tau, 0, 0)    #zonder dode tijd\n",
    "    print(\"Het procesmodel: \", G_)\n",
    "    # bereken de PID regelaar (C) adhv specifieke vergelijking\n",
    "    s = c.tf('s')\n",
    "    C = k_d * (1 / (beta*s + 1)) * ((tau*s + 1) / (s*(lamb*s + 1)))\n",
    "    print(\"De controller C(s): \", C)\n",
    "    # bereken de interne regelaar (T) adhv specifieke vergelijking\n",
    "    T = 0 # in het geval van FOPTD\n",
    "    # bereken de FF regelaar (Gtilde) adhv specifieke vergelijking\n",
    "    Gtilde = k_p * ((k * s) / (tau*s + 1))\n",
    "    Gdelay = c.pade(theta,10)\n",
    "    dnum = Gdelay[0]\n",
    "    dden = Gdelay[1]\n",
    "    Gdelay = c.tf(dnum,dden)\n",
    "    Gtilde = c.series(Gtilde,Gdelay)\n",
    "\n",
    "    # maak de regellus\n",
    "    sys_ref = build_controlstructure_fb(C,G)\n",
    "    sys = build_controlstructure_azamfar_markazi(C, G, T, Gtilde)\n",
    "    print(\"Het systeem 'sys' werd gegenereerd en is klaar voor gebruik!\")\n",
    "    \n",
    "                  \n",
    "def azamfar_markazi_iptd():\n",
    "    \"\"\"Berekend voor een IPTD (integraal pure dode tijd) de daarbijhorende\n",
    "    regelaars en bouwt het systeem (sys) in een transferfunctie structuur.\n",
    "    De transferfuncties worden globaal overschreven.\"\"\"\n",
    "    # Global declaratie\n",
    "    global C\n",
    "    global G\n",
    "    global T\n",
    "    global Gtilde\n",
    "    global sys\n",
    "    global sys_ref\n",
    "    # Input\n",
    "    print(\"Je hebt een IPTD model. Haal uit het model de volgende waardes.\")\n",
    "    k = float(input(\"De k-waarde is: \"))\n",
    "    theta = float(input(\"De vertraging (seconden) is: \"))\n",
    "    beta = float(input(\"Kies een beta-waarde: \"))\n",
    "    # Parameters\n",
    "    alpha = 0.4 \n",
    "    # Tabelparameters\n",
    "    k_p = alpha * (theta + beta)\n",
    "    k_i = 0.5236 / (k * theta)\n",
    "    k_d = 0.724 / (k * (theta + beta))\n",
    "    lamb = 0.04 * (theta + beta) \n",
    "                  \n",
    "    # bereken het proces\n",
    "    G = ontw_proces(k, 0, 0, 1, 0, theta)\n",
    "    G = ontw_proces(k, 0, 0, 1, 0, 0)\n",
    "    print(\"Het procesmodel: \", G_)\n",
    "    # bereken de dode tijd\n",
    "    Gdelay = c.pade(theta,10)\n",
    "    dnum = Gdelay[0]\n",
    "    dden = Gdelay[1]\n",
    "    Gdelay = c.tf(dnum,dden)\n",
    "    # bereken de PID regelaar (C) adhv specifieke vergelijking\n",
    "    s = c.tf('s')\n",
    "    C = k_d * (1 / (beta*s + 1)) * (1 + ((0.5236 / (theta*s + 1))*Gdelay) / (lamb*s + 1))\n",
    "    print(\"De controller C(s): \", C)\n",
    "    # bereken de interne regelaar (T) adhv specifieke vergelijking\n",
    "    T = k_i \n",
    "    # bereken de FF regelaar (Gtilde) adhv specifieke vergelijking\n",
    "    Gtilde = k_p * k * ((Gdelay) / (1 + (0.5236/(theta*s))*Gdelay))\n",
    "\n",
    "    # maak de regellus\n",
    "    sys_ref = build_controlstructure_fb(C,G)\n",
    "    sys = build_controlstructure_azamfar_markazi(C, G, T, Gtilde)\n",
    "    print(\"Het systeem 'sys' werd gegenereerd en is klaar voor gebruik!\")\n",
    "    \n",
    "def build_controlstructure_fb(C,G):\n",
    "    CG = c.series(C,G)\n",
    "    sys_ref = c.feedback(CG,1,sign=-1)\n",
    "    return sys_ref\n",
    "\n",
    "def build_controlstructure_azamfar_markazi(C, G, T, Gtilde):\n",
    "    \"\"\"Combines calculated C, G, T and Gtilde and makes the full control system \n",
    "    specified in \"Simple Formulae for control of industrial time delay systems\"\n",
    "    writen by Moslem Azamfar and Amir H. D. Markazi\"\"\"\n",
    "    global sys\n",
    "    GT_fb = c.feedback(G,T,sign=-1)\n",
    "    CGT_fb = c.series(C,GT_fb)\n",
    "    Gtilde_frac = Gtilde / GT_fb\n",
    "    sys = c.feedback(CGT_fb,Gtilde_frac,sign=-1)\n",
    "    sys = c.feedback(sys,1,sign=-1)   \n",
    "    return sys\n",
    "\n",
    "############## plot system performance ###########\n",
    "def plot_prest(sys_response):\n",
    "    \"\"\"Deze functie leest de gevraagde visualisatie en geeft deze weer.\"\"\"\n",
    "    if sys_response.value == 'Stapantwoord':\n",
    "#         sys_step()\n",
    "        tsys, ysys = c.step_response(sys)\n",
    "        tG, yG = c.step_response(sys_ref)\n",
    "        plt.plot(tsys,ysys)\n",
    "        plt.plot(tG, yG)\n",
    "        stop = 20\n",
    "        plt.xlim([0,stop])\n",
    "        # plt.ylim([0,max(y)])\n",
    "        plt.title('Stapantwoord')\n",
    "        plt.legend(['controlled system','uncontrolled system'])\n",
    "    elif sys_response.value == 'Setpoint-tracking':\n",
    "#         sys_step_custom()\n",
    "        dt = 1\n",
    "        stop = 200\n",
    "        T = np.arange(0,stop,dt)\n",
    "        step_init = 20\n",
    "        step_size = 50\n",
    "        U = step_init*np.ones(stop)\n",
    "        section = int(stop/2)\n",
    "        for i in range(section):\n",
    "            U[-i-1] = step_init + step_size\n",
    "    #         section = int(stop/4)\n",
    "    #         for i in range(section):\n",
    "    #             U[-i-1] = 0\n",
    "        t, y = c.forced_response(sys,T,U)\n",
    "        tG, yG = c.forced_response(sys_ref,T,U)\n",
    "\n",
    "        plt.plot(U)\n",
    "        plt.plot(y)\n",
    "        plt.plot(yG)\n",
    "        plt.xlim([0,stop])\n",
    "        plt.ylim([0,(step_init+step_size)*1.5])\n",
    "        plt.xlabel('time[s]')\n",
    "        plt.ylabel('amplitude')\n",
    "        plt.title('Setpoint-tracking')\n",
    "        plt.legend(['input', 'output_controlled','output_uncontrolled']) \n",
    "    elif sys_response.value == 'Sensitiviteit verstoring':\n",
    "#         sys_dist_resp()\n",
    "        dt = 1\n",
    "        stop = 10\n",
    "        T = np.arange(0,stop,dt)\n",
    "        U = np.sin(10*T+1.2)   #distrubance rejection\n",
    "        t, y = c.forced_response(sys,T,U)\n",
    "        tG, yG = c.forced_response(sys_ref,T,U)\n",
    "        plt.plot(U)\n",
    "        plt.plot(y)\n",
    "        plt.plot(yG)\n",
    "        plt.xlim([0,stop])\n",
    "        plt.xlabel('time[s]')\n",
    "        plt.ylabel('amplitude')\n",
    "        plt.title('distrubance rejection')\n",
    "        plt.legend(['input', 'output_controlled','output_uncontrolled']) \n",
    "    elif sys_response.value == 'Algemene prestaties': \n",
    "#         sys_perf()\n",
    "        gm, pm, wg, wp = margin(sys)\n",
    "        print(\"De versterkingsmarge (GM) is: \", gm)\n",
    "        print(\"De fasemarge (PM) is: \", pm)\n",
    "        print(\"De frequentie op de frequentie-crossover (-180°) is: \", gm)\n",
    "        print(\"De frequentie op de versterkingsmarge (-1) is: \", pm)              \n",
    "        plt.figure(10)\n",
    "        c.gangof4_plot(C,G)\n",
    "        plt.figure(20)\n",
    "        c.bode_plot(sys)\n",
    "        plt.figure(30)\n",
    "        c.nyquist_plot(sys)\n",
    "        plt.figure(40)\n",
    "        c.nichols_plot(sys)\n",
    "    else:\n",
    "        print(\"Er is hier niets\")\n",
    "\n",
    "# def sys_step():\n",
    "    \n",
    "    \n",
    "# def sys_step_custom():\n",
    "  \n",
    "\n",
    "# def sys_dist_resp():\n",
    "    \n",
    "\n",
    "# def sys_perf():\n",
    "           "
   ]
  },
  {
   "cell_type": "markdown",
   "metadata": {},
   "source": [
    "![control_smith_adv.jpg](./images/control_smith_adv.jpg)"
   ]
  },
  {
   "cell_type": "code",
   "execution_count": 5,
   "metadata": {},
   "outputs": [
    {
     "output_type": "display_data",
     "data": {
      "text/plain": "RadioButtons(description='soorten procesmodellen: ', options=('FOPTD', 'PTD', 'IPTD', 'IFOPTD', 'DIPTD', 'geen…",
      "application/vnd.jupyter.widget-view+json": {
       "version_major": 2,
       "version_minor": 0,
       "model_id": "6d755e3b188c4133b7877cb2f879dc0d"
      }
     },
     "metadata": {}
    }
   ],
   "source": [
    "# Kies het soort procesmodel die je uit de systeemidentificatie haalde.\n",
    "plantchoice"
   ]
  },
  {
   "cell_type": "code",
   "execution_count": 6,
   "metadata": {},
   "outputs": [
    {
     "output_type": "stream",
     "name": "stdout",
     "text": [
      "Je hebt een FOPTD model. Haal uit het model de volgende waardes.\n",
      "Het procesmodel:  \n",
      "    5\n",
      "----------\n",
      "1000 s + 1\n",
      "\n",
      "De controller C(s):  \n",
      "     131.6 s + 0.1316\n",
      "--------------------------\n",
      "0.0044 s^3 + 0.144 s^2 + s\n",
      "\n",
      "Het systeem 'sys' werd gegenereerd en is klaar voor gebruik!\n"
     ]
    }
   ],
   "source": [
    "instructions(plantchoice)"
   ]
  },
  {
   "cell_type": "code",
   "execution_count": 7,
   "metadata": {},
   "outputs": [
    {
     "output_type": "display_data",
     "data": {
      "text/plain": "RadioButtons(description='Plot prestatie', options=('Stapantwoord', 'Setpoint-tracking', 'Sensitiviteit versto…",
      "application/vnd.jupyter.widget-view+json": {
       "version_major": 2,
       "version_minor": 0,
       "model_id": "4b5638027032408087273ad71a9fa7ca"
      }
     },
     "metadata": {}
    }
   ],
   "source": [
    "sys_response"
   ]
  },
  {
   "cell_type": "code",
   "execution_count": 8,
   "metadata": {},
   "outputs": [
    {
     "output_type": "execute_result",
     "data": {
      "text/plain": [
       "'Setpoint-tracking'"
      ]
     },
     "metadata": {},
     "execution_count": 8
    }
   ],
   "source": [
    "sys_response.value"
   ]
  },
  {
   "cell_type": "code",
   "execution_count": 9,
   "metadata": {},
   "outputs": [
    {
     "output_type": "stream",
     "name": "stderr",
     "text": [
      "C:\\Users\\jensd\\Anaconda3\\envs\\widget\\lib\\site-packages\\scipy\\sparse\\linalg\\matfuncs.py:709: LinAlgWarning: Ill-conditioned matrix (rcond=2.53459e-64): result may not be accurate.\n  return solve(Q, P)\nC:\\Users\\jensd\\Anaconda3\\envs\\widget\\lib\\site-packages\\scipy\\sparse\\linalg\\matfuncs.py:709: LinAlgWarning: Ill-conditioned matrix (rcond=8.71319e-23): result may not be accurate.\n  return solve(Q, P)\n"
     ]
    },
    {
     "output_type": "display_data",
     "data": {
      "text/plain": "<Figure size 432x288 with 1 Axes>",
      "image/svg+xml": "<?xml version=\"1.0\" encoding=\"utf-8\" standalone=\"no\"?>\r\n<!DOCTYPE svg PUBLIC \"-//W3C//DTD SVG 1.1//EN\"\r\n  \"http://www.w3.org/Graphics/SVG/1.1/DTD/svg11.dtd\">\r\n<!-- Created with matplotlib (https://matplotlib.org/) -->\r\n<svg height=\"277.314375pt\" version=\"1.1\" viewBox=\"0 0 398.509375 277.314375\" width=\"398.509375pt\" xmlns=\"http://www.w3.org/2000/svg\" xmlns:xlink=\"http://www.w3.org/1999/xlink\">\r\n <metadata>\r\n  <rdf:RDF xmlns:cc=\"http://creativecommons.org/ns#\" xmlns:dc=\"http://purl.org/dc/elements/1.1/\" xmlns:rdf=\"http://www.w3.org/1999/02/22-rdf-syntax-ns#\">\r\n   <cc:Work>\r\n    <dc:type rdf:resource=\"http://purl.org/dc/dcmitype/StillImage\"/>\r\n    <dc:date>2021-06-03T17:13:40.007796</dc:date>\r\n    <dc:format>image/svg+xml</dc:format>\r\n    <dc:creator>\r\n     <cc:Agent>\r\n      <dc:title>Matplotlib v3.3.4, https://matplotlib.org/</dc:title>\r\n     </cc:Agent>\r\n    </dc:creator>\r\n   </cc:Work>\r\n  </rdf:RDF>\r\n </metadata>\r\n <defs>\r\n  <style type=\"text/css\">*{stroke-linecap:butt;stroke-linejoin:round;}</style>\r\n </defs>\r\n <g id=\"figure_1\">\r\n  <g id=\"patch_1\">\r\n   <path d=\"M 0 277.314375 \r\nL 398.509375 277.314375 \r\nL 398.509375 0 \r\nL 0 0 \r\nz\r\n\" style=\"fill:none;\"/>\r\n  </g>\r\n  <g id=\"axes_1\">\r\n   <g id=\"patch_2\">\r\n    <path d=\"M 46.965625 239.758125 \r\nL 381.765625 239.758125 \r\nL 381.765625 22.318125 \r\nL 46.965625 22.318125 \r\nz\r\n\" style=\"fill:#ffffff;\"/>\r\n   </g>\r\n   <g id=\"matplotlib.axis_1\">\r\n    <g id=\"xtick_1\">\r\n     <g id=\"line2d_1\">\r\n      <defs>\r\n       <path d=\"M 0 0 \r\nL 0 3.5 \r\n\" id=\"m75e7023228\" style=\"stroke:#000000;stroke-width:0.8;\"/>\r\n      </defs>\r\n      <g>\r\n       <use style=\"stroke:#000000;stroke-width:0.8;\" x=\"46.965625\" xlink:href=\"#m75e7023228\" y=\"239.758125\"/>\r\n      </g>\r\n     </g>\r\n     <g id=\"text_1\">\r\n      <!-- 0 -->\r\n      <g transform=\"translate(43.784375 254.356562)scale(0.1 -0.1)\">\r\n       <defs>\r\n        <path d=\"M 31.78125 66.40625 \r\nQ 24.171875 66.40625 20.328125 58.90625 \r\nQ 16.5 51.421875 16.5 36.375 \r\nQ 16.5 21.390625 20.328125 13.890625 \r\nQ 24.171875 6.390625 31.78125 6.390625 \r\nQ 39.453125 6.390625 43.28125 13.890625 \r\nQ 47.125 21.390625 47.125 36.375 \r\nQ 47.125 51.421875 43.28125 58.90625 \r\nQ 39.453125 66.40625 31.78125 66.40625 \r\nz\r\nM 31.78125 74.21875 \r\nQ 44.046875 74.21875 50.515625 64.515625 \r\nQ 56.984375 54.828125 56.984375 36.375 \r\nQ 56.984375 17.96875 50.515625 8.265625 \r\nQ 44.046875 -1.421875 31.78125 -1.421875 \r\nQ 19.53125 -1.421875 13.0625 8.265625 \r\nQ 6.59375 17.96875 6.59375 36.375 \r\nQ 6.59375 54.828125 13.0625 64.515625 \r\nQ 19.53125 74.21875 31.78125 74.21875 \r\nz\r\n\" id=\"DejaVuSans-48\"/>\r\n       </defs>\r\n       <use xlink:href=\"#DejaVuSans-48\"/>\r\n      </g>\r\n     </g>\r\n    </g>\r\n    <g id=\"xtick_2\">\r\n     <g id=\"line2d_2\">\r\n      <g>\r\n       <use style=\"stroke:#000000;stroke-width:0.8;\" x=\"88.815625\" xlink:href=\"#m75e7023228\" y=\"239.758125\"/>\r\n      </g>\r\n     </g>\r\n     <g id=\"text_2\">\r\n      <!-- 25 -->\r\n      <g transform=\"translate(82.453125 254.356562)scale(0.1 -0.1)\">\r\n       <defs>\r\n        <path d=\"M 19.1875 8.296875 \r\nL 53.609375 8.296875 \r\nL 53.609375 0 \r\nL 7.328125 0 \r\nL 7.328125 8.296875 \r\nQ 12.9375 14.109375 22.625 23.890625 \r\nQ 32.328125 33.6875 34.8125 36.53125 \r\nQ 39.546875 41.84375 41.421875 45.53125 \r\nQ 43.3125 49.21875 43.3125 52.78125 \r\nQ 43.3125 58.59375 39.234375 62.25 \r\nQ 35.15625 65.921875 28.609375 65.921875 \r\nQ 23.96875 65.921875 18.8125 64.3125 \r\nQ 13.671875 62.703125 7.8125 59.421875 \r\nL 7.8125 69.390625 \r\nQ 13.765625 71.78125 18.9375 73 \r\nQ 24.125 74.21875 28.421875 74.21875 \r\nQ 39.75 74.21875 46.484375 68.546875 \r\nQ 53.21875 62.890625 53.21875 53.421875 \r\nQ 53.21875 48.921875 51.53125 44.890625 \r\nQ 49.859375 40.875 45.40625 35.40625 \r\nQ 44.1875 33.984375 37.640625 27.21875 \r\nQ 31.109375 20.453125 19.1875 8.296875 \r\nz\r\n\" id=\"DejaVuSans-50\"/>\r\n        <path d=\"M 10.796875 72.90625 \r\nL 49.515625 72.90625 \r\nL 49.515625 64.59375 \r\nL 19.828125 64.59375 \r\nL 19.828125 46.734375 \r\nQ 21.96875 47.46875 24.109375 47.828125 \r\nQ 26.265625 48.1875 28.421875 48.1875 \r\nQ 40.625 48.1875 47.75 41.5 \r\nQ 54.890625 34.8125 54.890625 23.390625 \r\nQ 54.890625 11.625 47.5625 5.09375 \r\nQ 40.234375 -1.421875 26.90625 -1.421875 \r\nQ 22.3125 -1.421875 17.546875 -0.640625 \r\nQ 12.796875 0.140625 7.71875 1.703125 \r\nL 7.71875 11.625 \r\nQ 12.109375 9.234375 16.796875 8.0625 \r\nQ 21.484375 6.890625 26.703125 6.890625 \r\nQ 35.15625 6.890625 40.078125 11.328125 \r\nQ 45.015625 15.765625 45.015625 23.390625 \r\nQ 45.015625 31 40.078125 35.4375 \r\nQ 35.15625 39.890625 26.703125 39.890625 \r\nQ 22.75 39.890625 18.8125 39.015625 \r\nQ 14.890625 38.140625 10.796875 36.28125 \r\nz\r\n\" id=\"DejaVuSans-53\"/>\r\n       </defs>\r\n       <use xlink:href=\"#DejaVuSans-50\"/>\r\n       <use x=\"63.623047\" xlink:href=\"#DejaVuSans-53\"/>\r\n      </g>\r\n     </g>\r\n    </g>\r\n    <g id=\"xtick_3\">\r\n     <g id=\"line2d_3\">\r\n      <g>\r\n       <use style=\"stroke:#000000;stroke-width:0.8;\" x=\"130.665625\" xlink:href=\"#m75e7023228\" y=\"239.758125\"/>\r\n      </g>\r\n     </g>\r\n     <g id=\"text_3\">\r\n      <!-- 50 -->\r\n      <g transform=\"translate(124.303125 254.356562)scale(0.1 -0.1)\">\r\n       <use xlink:href=\"#DejaVuSans-53\"/>\r\n       <use x=\"63.623047\" xlink:href=\"#DejaVuSans-48\"/>\r\n      </g>\r\n     </g>\r\n    </g>\r\n    <g id=\"xtick_4\">\r\n     <g id=\"line2d_4\">\r\n      <g>\r\n       <use style=\"stroke:#000000;stroke-width:0.8;\" x=\"172.515625\" xlink:href=\"#m75e7023228\" y=\"239.758125\"/>\r\n      </g>\r\n     </g>\r\n     <g id=\"text_4\">\r\n      <!-- 75 -->\r\n      <g transform=\"translate(166.153125 254.356562)scale(0.1 -0.1)\">\r\n       <defs>\r\n        <path d=\"M 8.203125 72.90625 \r\nL 55.078125 72.90625 \r\nL 55.078125 68.703125 \r\nL 28.609375 0 \r\nL 18.3125 0 \r\nL 43.21875 64.59375 \r\nL 8.203125 64.59375 \r\nz\r\n\" id=\"DejaVuSans-55\"/>\r\n       </defs>\r\n       <use xlink:href=\"#DejaVuSans-55\"/>\r\n       <use x=\"63.623047\" xlink:href=\"#DejaVuSans-53\"/>\r\n      </g>\r\n     </g>\r\n    </g>\r\n    <g id=\"xtick_5\">\r\n     <g id=\"line2d_5\">\r\n      <g>\r\n       <use style=\"stroke:#000000;stroke-width:0.8;\" x=\"214.365625\" xlink:href=\"#m75e7023228\" y=\"239.758125\"/>\r\n      </g>\r\n     </g>\r\n     <g id=\"text_5\">\r\n      <!-- 100 -->\r\n      <g transform=\"translate(204.821875 254.356562)scale(0.1 -0.1)\">\r\n       <defs>\r\n        <path d=\"M 12.40625 8.296875 \r\nL 28.515625 8.296875 \r\nL 28.515625 63.921875 \r\nL 10.984375 60.40625 \r\nL 10.984375 69.390625 \r\nL 28.421875 72.90625 \r\nL 38.28125 72.90625 \r\nL 38.28125 8.296875 \r\nL 54.390625 8.296875 \r\nL 54.390625 0 \r\nL 12.40625 0 \r\nz\r\n\" id=\"DejaVuSans-49\"/>\r\n       </defs>\r\n       <use xlink:href=\"#DejaVuSans-49\"/>\r\n       <use x=\"63.623047\" xlink:href=\"#DejaVuSans-48\"/>\r\n       <use x=\"127.246094\" xlink:href=\"#DejaVuSans-48\"/>\r\n      </g>\r\n     </g>\r\n    </g>\r\n    <g id=\"xtick_6\">\r\n     <g id=\"line2d_6\">\r\n      <g>\r\n       <use style=\"stroke:#000000;stroke-width:0.8;\" x=\"256.215625\" xlink:href=\"#m75e7023228\" y=\"239.758125\"/>\r\n      </g>\r\n     </g>\r\n     <g id=\"text_6\">\r\n      <!-- 125 -->\r\n      <g transform=\"translate(246.671875 254.356562)scale(0.1 -0.1)\">\r\n       <use xlink:href=\"#DejaVuSans-49\"/>\r\n       <use x=\"63.623047\" xlink:href=\"#DejaVuSans-50\"/>\r\n       <use x=\"127.246094\" xlink:href=\"#DejaVuSans-53\"/>\r\n      </g>\r\n     </g>\r\n    </g>\r\n    <g id=\"xtick_7\">\r\n     <g id=\"line2d_7\">\r\n      <g>\r\n       <use style=\"stroke:#000000;stroke-width:0.8;\" x=\"298.065625\" xlink:href=\"#m75e7023228\" y=\"239.758125\"/>\r\n      </g>\r\n     </g>\r\n     <g id=\"text_7\">\r\n      <!-- 150 -->\r\n      <g transform=\"translate(288.521875 254.356562)scale(0.1 -0.1)\">\r\n       <use xlink:href=\"#DejaVuSans-49\"/>\r\n       <use x=\"63.623047\" xlink:href=\"#DejaVuSans-53\"/>\r\n       <use x=\"127.246094\" xlink:href=\"#DejaVuSans-48\"/>\r\n      </g>\r\n     </g>\r\n    </g>\r\n    <g id=\"xtick_8\">\r\n     <g id=\"line2d_8\">\r\n      <g>\r\n       <use style=\"stroke:#000000;stroke-width:0.8;\" x=\"339.915625\" xlink:href=\"#m75e7023228\" y=\"239.758125\"/>\r\n      </g>\r\n     </g>\r\n     <g id=\"text_8\">\r\n      <!-- 175 -->\r\n      <g transform=\"translate(330.371875 254.356562)scale(0.1 -0.1)\">\r\n       <use xlink:href=\"#DejaVuSans-49\"/>\r\n       <use x=\"63.623047\" xlink:href=\"#DejaVuSans-55\"/>\r\n       <use x=\"127.246094\" xlink:href=\"#DejaVuSans-53\"/>\r\n      </g>\r\n     </g>\r\n    </g>\r\n    <g id=\"xtick_9\">\r\n     <g id=\"line2d_9\">\r\n      <g>\r\n       <use style=\"stroke:#000000;stroke-width:0.8;\" x=\"381.765625\" xlink:href=\"#m75e7023228\" y=\"239.758125\"/>\r\n      </g>\r\n     </g>\r\n     <g id=\"text_9\">\r\n      <!-- 200 -->\r\n      <g transform=\"translate(372.221875 254.356562)scale(0.1 -0.1)\">\r\n       <use xlink:href=\"#DejaVuSans-50\"/>\r\n       <use x=\"63.623047\" xlink:href=\"#DejaVuSans-48\"/>\r\n       <use x=\"127.246094\" xlink:href=\"#DejaVuSans-48\"/>\r\n      </g>\r\n     </g>\r\n    </g>\r\n    <g id=\"text_10\">\r\n     <!-- time[s] -->\r\n     <g transform=\"translate(196.563281 268.034687)scale(0.1 -0.1)\">\r\n      <defs>\r\n       <path d=\"M 18.3125 70.21875 \r\nL 18.3125 54.6875 \r\nL 36.8125 54.6875 \r\nL 36.8125 47.703125 \r\nL 18.3125 47.703125 \r\nL 18.3125 18.015625 \r\nQ 18.3125 11.328125 20.140625 9.421875 \r\nQ 21.96875 7.515625 27.59375 7.515625 \r\nL 36.8125 7.515625 \r\nL 36.8125 0 \r\nL 27.59375 0 \r\nQ 17.1875 0 13.234375 3.875 \r\nQ 9.28125 7.765625 9.28125 18.015625 \r\nL 9.28125 47.703125 \r\nL 2.6875 47.703125 \r\nL 2.6875 54.6875 \r\nL 9.28125 54.6875 \r\nL 9.28125 70.21875 \r\nz\r\n\" id=\"DejaVuSans-116\"/>\r\n       <path d=\"M 9.421875 54.6875 \r\nL 18.40625 54.6875 \r\nL 18.40625 0 \r\nL 9.421875 0 \r\nz\r\nM 9.421875 75.984375 \r\nL 18.40625 75.984375 \r\nL 18.40625 64.59375 \r\nL 9.421875 64.59375 \r\nz\r\n\" id=\"DejaVuSans-105\"/>\r\n       <path d=\"M 52 44.1875 \r\nQ 55.375 50.25 60.0625 53.125 \r\nQ 64.75 56 71.09375 56 \r\nQ 79.640625 56 84.28125 50.015625 \r\nQ 88.921875 44.046875 88.921875 33.015625 \r\nL 88.921875 0 \r\nL 79.890625 0 \r\nL 79.890625 32.71875 \r\nQ 79.890625 40.578125 77.09375 44.375 \r\nQ 74.3125 48.1875 68.609375 48.1875 \r\nQ 61.625 48.1875 57.5625 43.546875 \r\nQ 53.515625 38.921875 53.515625 30.90625 \r\nL 53.515625 0 \r\nL 44.484375 0 \r\nL 44.484375 32.71875 \r\nQ 44.484375 40.625 41.703125 44.40625 \r\nQ 38.921875 48.1875 33.109375 48.1875 \r\nQ 26.21875 48.1875 22.15625 43.53125 \r\nQ 18.109375 38.875 18.109375 30.90625 \r\nL 18.109375 0 \r\nL 9.078125 0 \r\nL 9.078125 54.6875 \r\nL 18.109375 54.6875 \r\nL 18.109375 46.1875 \r\nQ 21.1875 51.21875 25.484375 53.609375 \r\nQ 29.78125 56 35.6875 56 \r\nQ 41.65625 56 45.828125 52.96875 \r\nQ 50 49.953125 52 44.1875 \r\nz\r\n\" id=\"DejaVuSans-109\"/>\r\n       <path d=\"M 56.203125 29.59375 \r\nL 56.203125 25.203125 \r\nL 14.890625 25.203125 \r\nQ 15.484375 15.921875 20.484375 11.0625 \r\nQ 25.484375 6.203125 34.421875 6.203125 \r\nQ 39.59375 6.203125 44.453125 7.46875 \r\nQ 49.3125 8.734375 54.109375 11.28125 \r\nL 54.109375 2.78125 \r\nQ 49.265625 0.734375 44.1875 -0.34375 \r\nQ 39.109375 -1.421875 33.890625 -1.421875 \r\nQ 20.796875 -1.421875 13.15625 6.1875 \r\nQ 5.515625 13.8125 5.515625 26.8125 \r\nQ 5.515625 40.234375 12.765625 48.109375 \r\nQ 20.015625 56 32.328125 56 \r\nQ 43.359375 56 49.78125 48.890625 \r\nQ 56.203125 41.796875 56.203125 29.59375 \r\nz\r\nM 47.21875 32.234375 \r\nQ 47.125 39.59375 43.09375 43.984375 \r\nQ 39.0625 48.390625 32.421875 48.390625 \r\nQ 24.90625 48.390625 20.390625 44.140625 \r\nQ 15.875 39.890625 15.1875 32.171875 \r\nz\r\n\" id=\"DejaVuSans-101\"/>\r\n       <path d=\"M 8.59375 75.984375 \r\nL 29.296875 75.984375 \r\nL 29.296875 69 \r\nL 17.578125 69 \r\nL 17.578125 -6.203125 \r\nL 29.296875 -6.203125 \r\nL 29.296875 -13.1875 \r\nL 8.59375 -13.1875 \r\nz\r\n\" id=\"DejaVuSans-91\"/>\r\n       <path d=\"M 44.28125 53.078125 \r\nL 44.28125 44.578125 \r\nQ 40.484375 46.53125 36.375 47.5 \r\nQ 32.28125 48.484375 27.875 48.484375 \r\nQ 21.1875 48.484375 17.84375 46.4375 \r\nQ 14.5 44.390625 14.5 40.28125 \r\nQ 14.5 37.15625 16.890625 35.375 \r\nQ 19.28125 33.59375 26.515625 31.984375 \r\nL 29.59375 31.296875 \r\nQ 39.15625 29.25 43.1875 25.515625 \r\nQ 47.21875 21.78125 47.21875 15.09375 \r\nQ 47.21875 7.46875 41.1875 3.015625 \r\nQ 35.15625 -1.421875 24.609375 -1.421875 \r\nQ 20.21875 -1.421875 15.453125 -0.5625 \r\nQ 10.6875 0.296875 5.421875 2 \r\nL 5.421875 11.28125 \r\nQ 10.40625 8.6875 15.234375 7.390625 \r\nQ 20.0625 6.109375 24.8125 6.109375 \r\nQ 31.15625 6.109375 34.5625 8.28125 \r\nQ 37.984375 10.453125 37.984375 14.40625 \r\nQ 37.984375 18.0625 35.515625 20.015625 \r\nQ 33.0625 21.96875 24.703125 23.78125 \r\nL 21.578125 24.515625 \r\nQ 13.234375 26.265625 9.515625 29.90625 \r\nQ 5.8125 33.546875 5.8125 39.890625 \r\nQ 5.8125 47.609375 11.28125 51.796875 \r\nQ 16.75 56 26.8125 56 \r\nQ 31.78125 56 36.171875 55.265625 \r\nQ 40.578125 54.546875 44.28125 53.078125 \r\nz\r\n\" id=\"DejaVuSans-115\"/>\r\n       <path d=\"M 30.421875 75.984375 \r\nL 30.421875 -13.1875 \r\nL 9.71875 -13.1875 \r\nL 9.71875 -6.203125 \r\nL 21.390625 -6.203125 \r\nL 21.390625 69 \r\nL 9.71875 69 \r\nL 9.71875 75.984375 \r\nz\r\n\" id=\"DejaVuSans-93\"/>\r\n      </defs>\r\n      <use xlink:href=\"#DejaVuSans-116\"/>\r\n      <use x=\"39.208984\" xlink:href=\"#DejaVuSans-105\"/>\r\n      <use x=\"66.992188\" xlink:href=\"#DejaVuSans-109\"/>\r\n      <use x=\"164.404297\" xlink:href=\"#DejaVuSans-101\"/>\r\n      <use x=\"225.927734\" xlink:href=\"#DejaVuSans-91\"/>\r\n      <use x=\"264.941406\" xlink:href=\"#DejaVuSans-115\"/>\r\n      <use x=\"317.041016\" xlink:href=\"#DejaVuSans-93\"/>\r\n     </g>\r\n    </g>\r\n   </g>\r\n   <g id=\"matplotlib.axis_2\">\r\n    <g id=\"ytick_1\">\r\n     <g id=\"line2d_10\">\r\n      <defs>\r\n       <path d=\"M 0 0 \r\nL -3.5 0 \r\n\" id=\"mafa256dffb\" style=\"stroke:#000000;stroke-width:0.8;\"/>\r\n      </defs>\r\n      <g>\r\n       <use style=\"stroke:#000000;stroke-width:0.8;\" x=\"46.965625\" xlink:href=\"#mafa256dffb\" y=\"239.758125\"/>\r\n      </g>\r\n     </g>\r\n     <g id=\"text_11\">\r\n      <!-- 0 -->\r\n      <g transform=\"translate(33.603125 243.557344)scale(0.1 -0.1)\">\r\n       <use xlink:href=\"#DejaVuSans-48\"/>\r\n      </g>\r\n     </g>\r\n    </g>\r\n    <g id=\"ytick_2\">\r\n     <g id=\"line2d_11\">\r\n      <g>\r\n       <use style=\"stroke:#000000;stroke-width:0.8;\" x=\"46.965625\" xlink:href=\"#mafa256dffb\" y=\"198.340982\"/>\r\n      </g>\r\n     </g>\r\n     <g id=\"text_12\">\r\n      <!-- 20 -->\r\n      <g transform=\"translate(27.240625 202.140201)scale(0.1 -0.1)\">\r\n       <use xlink:href=\"#DejaVuSans-50\"/>\r\n       <use x=\"63.623047\" xlink:href=\"#DejaVuSans-48\"/>\r\n      </g>\r\n     </g>\r\n    </g>\r\n    <g id=\"ytick_3\">\r\n     <g id=\"line2d_12\">\r\n      <g>\r\n       <use style=\"stroke:#000000;stroke-width:0.8;\" x=\"46.965625\" xlink:href=\"#mafa256dffb\" y=\"156.923839\"/>\r\n      </g>\r\n     </g>\r\n     <g id=\"text_13\">\r\n      <!-- 40 -->\r\n      <g transform=\"translate(27.240625 160.723058)scale(0.1 -0.1)\">\r\n       <defs>\r\n        <path d=\"M 37.796875 64.3125 \r\nL 12.890625 25.390625 \r\nL 37.796875 25.390625 \r\nz\r\nM 35.203125 72.90625 \r\nL 47.609375 72.90625 \r\nL 47.609375 25.390625 \r\nL 58.015625 25.390625 \r\nL 58.015625 17.1875 \r\nL 47.609375 17.1875 \r\nL 47.609375 0 \r\nL 37.796875 0 \r\nL 37.796875 17.1875 \r\nL 4.890625 17.1875 \r\nL 4.890625 26.703125 \r\nz\r\n\" id=\"DejaVuSans-52\"/>\r\n       </defs>\r\n       <use xlink:href=\"#DejaVuSans-52\"/>\r\n       <use x=\"63.623047\" xlink:href=\"#DejaVuSans-48\"/>\r\n      </g>\r\n     </g>\r\n    </g>\r\n    <g id=\"ytick_4\">\r\n     <g id=\"line2d_13\">\r\n      <g>\r\n       <use style=\"stroke:#000000;stroke-width:0.8;\" x=\"46.965625\" xlink:href=\"#mafa256dffb\" y=\"115.506696\"/>\r\n      </g>\r\n     </g>\r\n     <g id=\"text_14\">\r\n      <!-- 60 -->\r\n      <g transform=\"translate(27.240625 119.305915)scale(0.1 -0.1)\">\r\n       <defs>\r\n        <path d=\"M 33.015625 40.375 \r\nQ 26.375 40.375 22.484375 35.828125 \r\nQ 18.609375 31.296875 18.609375 23.390625 \r\nQ 18.609375 15.53125 22.484375 10.953125 \r\nQ 26.375 6.390625 33.015625 6.390625 \r\nQ 39.65625 6.390625 43.53125 10.953125 \r\nQ 47.40625 15.53125 47.40625 23.390625 \r\nQ 47.40625 31.296875 43.53125 35.828125 \r\nQ 39.65625 40.375 33.015625 40.375 \r\nz\r\nM 52.59375 71.296875 \r\nL 52.59375 62.3125 \r\nQ 48.875 64.0625 45.09375 64.984375 \r\nQ 41.3125 65.921875 37.59375 65.921875 \r\nQ 27.828125 65.921875 22.671875 59.328125 \r\nQ 17.53125 52.734375 16.796875 39.40625 \r\nQ 19.671875 43.65625 24.015625 45.921875 \r\nQ 28.375 48.1875 33.59375 48.1875 \r\nQ 44.578125 48.1875 50.953125 41.515625 \r\nQ 57.328125 34.859375 57.328125 23.390625 \r\nQ 57.328125 12.15625 50.6875 5.359375 \r\nQ 44.046875 -1.421875 33.015625 -1.421875 \r\nQ 20.359375 -1.421875 13.671875 8.265625 \r\nQ 6.984375 17.96875 6.984375 36.375 \r\nQ 6.984375 53.65625 15.1875 63.9375 \r\nQ 23.390625 74.21875 37.203125 74.21875 \r\nQ 40.921875 74.21875 44.703125 73.484375 \r\nQ 48.484375 72.75 52.59375 71.296875 \r\nz\r\n\" id=\"DejaVuSans-54\"/>\r\n       </defs>\r\n       <use xlink:href=\"#DejaVuSans-54\"/>\r\n       <use x=\"63.623047\" xlink:href=\"#DejaVuSans-48\"/>\r\n      </g>\r\n     </g>\r\n    </g>\r\n    <g id=\"ytick_5\">\r\n     <g id=\"line2d_14\">\r\n      <g>\r\n       <use style=\"stroke:#000000;stroke-width:0.8;\" x=\"46.965625\" xlink:href=\"#mafa256dffb\" y=\"74.089554\"/>\r\n      </g>\r\n     </g>\r\n     <g id=\"text_15\">\r\n      <!-- 80 -->\r\n      <g transform=\"translate(27.240625 77.888772)scale(0.1 -0.1)\">\r\n       <defs>\r\n        <path d=\"M 31.78125 34.625 \r\nQ 24.75 34.625 20.71875 30.859375 \r\nQ 16.703125 27.09375 16.703125 20.515625 \r\nQ 16.703125 13.921875 20.71875 10.15625 \r\nQ 24.75 6.390625 31.78125 6.390625 \r\nQ 38.8125 6.390625 42.859375 10.171875 \r\nQ 46.921875 13.96875 46.921875 20.515625 \r\nQ 46.921875 27.09375 42.890625 30.859375 \r\nQ 38.875 34.625 31.78125 34.625 \r\nz\r\nM 21.921875 38.8125 \r\nQ 15.578125 40.375 12.03125 44.71875 \r\nQ 8.5 49.078125 8.5 55.328125 \r\nQ 8.5 64.0625 14.71875 69.140625 \r\nQ 20.953125 74.21875 31.78125 74.21875 \r\nQ 42.671875 74.21875 48.875 69.140625 \r\nQ 55.078125 64.0625 55.078125 55.328125 \r\nQ 55.078125 49.078125 51.53125 44.71875 \r\nQ 48 40.375 41.703125 38.8125 \r\nQ 48.828125 37.15625 52.796875 32.3125 \r\nQ 56.78125 27.484375 56.78125 20.515625 \r\nQ 56.78125 9.90625 50.3125 4.234375 \r\nQ 43.84375 -1.421875 31.78125 -1.421875 \r\nQ 19.734375 -1.421875 13.25 4.234375 \r\nQ 6.78125 9.90625 6.78125 20.515625 \r\nQ 6.78125 27.484375 10.78125 32.3125 \r\nQ 14.796875 37.15625 21.921875 38.8125 \r\nz\r\nM 18.3125 54.390625 \r\nQ 18.3125 48.734375 21.84375 45.5625 \r\nQ 25.390625 42.390625 31.78125 42.390625 \r\nQ 38.140625 42.390625 41.71875 45.5625 \r\nQ 45.3125 48.734375 45.3125 54.390625 \r\nQ 45.3125 60.0625 41.71875 63.234375 \r\nQ 38.140625 66.40625 31.78125 66.40625 \r\nQ 25.390625 66.40625 21.84375 63.234375 \r\nQ 18.3125 60.0625 18.3125 54.390625 \r\nz\r\n\" id=\"DejaVuSans-56\"/>\r\n       </defs>\r\n       <use xlink:href=\"#DejaVuSans-56\"/>\r\n       <use x=\"63.623047\" xlink:href=\"#DejaVuSans-48\"/>\r\n      </g>\r\n     </g>\r\n    </g>\r\n    <g id=\"ytick_6\">\r\n     <g id=\"line2d_15\">\r\n      <g>\r\n       <use style=\"stroke:#000000;stroke-width:0.8;\" x=\"46.965625\" xlink:href=\"#mafa256dffb\" y=\"32.672411\"/>\r\n      </g>\r\n     </g>\r\n     <g id=\"text_16\">\r\n      <!-- 100 -->\r\n      <g transform=\"translate(20.878125 36.471629)scale(0.1 -0.1)\">\r\n       <use xlink:href=\"#DejaVuSans-49\"/>\r\n       <use x=\"63.623047\" xlink:href=\"#DejaVuSans-48\"/>\r\n       <use x=\"127.246094\" xlink:href=\"#DejaVuSans-48\"/>\r\n      </g>\r\n     </g>\r\n    </g>\r\n    <g id=\"text_17\">\r\n     <!-- amplitude -->\r\n     <g transform=\"translate(14.798438 156.304531)rotate(-90)scale(0.1 -0.1)\">\r\n      <defs>\r\n       <path d=\"M 34.28125 27.484375 \r\nQ 23.390625 27.484375 19.1875 25 \r\nQ 14.984375 22.515625 14.984375 16.5 \r\nQ 14.984375 11.71875 18.140625 8.90625 \r\nQ 21.296875 6.109375 26.703125 6.109375 \r\nQ 34.1875 6.109375 38.703125 11.40625 \r\nQ 43.21875 16.703125 43.21875 25.484375 \r\nL 43.21875 27.484375 \r\nz\r\nM 52.203125 31.203125 \r\nL 52.203125 0 \r\nL 43.21875 0 \r\nL 43.21875 8.296875 \r\nQ 40.140625 3.328125 35.546875 0.953125 \r\nQ 30.953125 -1.421875 24.3125 -1.421875 \r\nQ 15.921875 -1.421875 10.953125 3.296875 \r\nQ 6 8.015625 6 15.921875 \r\nQ 6 25.140625 12.171875 29.828125 \r\nQ 18.359375 34.515625 30.609375 34.515625 \r\nL 43.21875 34.515625 \r\nL 43.21875 35.40625 \r\nQ 43.21875 41.609375 39.140625 45 \r\nQ 35.0625 48.390625 27.6875 48.390625 \r\nQ 23 48.390625 18.546875 47.265625 \r\nQ 14.109375 46.140625 10.015625 43.890625 \r\nL 10.015625 52.203125 \r\nQ 14.9375 54.109375 19.578125 55.046875 \r\nQ 24.21875 56 28.609375 56 \r\nQ 40.484375 56 46.34375 49.84375 \r\nQ 52.203125 43.703125 52.203125 31.203125 \r\nz\r\n\" id=\"DejaVuSans-97\"/>\r\n       <path d=\"M 18.109375 8.203125 \r\nL 18.109375 -20.796875 \r\nL 9.078125 -20.796875 \r\nL 9.078125 54.6875 \r\nL 18.109375 54.6875 \r\nL 18.109375 46.390625 \r\nQ 20.953125 51.265625 25.265625 53.625 \r\nQ 29.59375 56 35.59375 56 \r\nQ 45.5625 56 51.78125 48.09375 \r\nQ 58.015625 40.1875 58.015625 27.296875 \r\nQ 58.015625 14.40625 51.78125 6.484375 \r\nQ 45.5625 -1.421875 35.59375 -1.421875 \r\nQ 29.59375 -1.421875 25.265625 0.953125 \r\nQ 20.953125 3.328125 18.109375 8.203125 \r\nz\r\nM 48.6875 27.296875 \r\nQ 48.6875 37.203125 44.609375 42.84375 \r\nQ 40.53125 48.484375 33.40625 48.484375 \r\nQ 26.265625 48.484375 22.1875 42.84375 \r\nQ 18.109375 37.203125 18.109375 27.296875 \r\nQ 18.109375 17.390625 22.1875 11.75 \r\nQ 26.265625 6.109375 33.40625 6.109375 \r\nQ 40.53125 6.109375 44.609375 11.75 \r\nQ 48.6875 17.390625 48.6875 27.296875 \r\nz\r\n\" id=\"DejaVuSans-112\"/>\r\n       <path d=\"M 9.421875 75.984375 \r\nL 18.40625 75.984375 \r\nL 18.40625 0 \r\nL 9.421875 0 \r\nz\r\n\" id=\"DejaVuSans-108\"/>\r\n       <path d=\"M 8.5 21.578125 \r\nL 8.5 54.6875 \r\nL 17.484375 54.6875 \r\nL 17.484375 21.921875 \r\nQ 17.484375 14.15625 20.5 10.265625 \r\nQ 23.53125 6.390625 29.59375 6.390625 \r\nQ 36.859375 6.390625 41.078125 11.03125 \r\nQ 45.3125 15.671875 45.3125 23.6875 \r\nL 45.3125 54.6875 \r\nL 54.296875 54.6875 \r\nL 54.296875 0 \r\nL 45.3125 0 \r\nL 45.3125 8.40625 \r\nQ 42.046875 3.421875 37.71875 1 \r\nQ 33.40625 -1.421875 27.6875 -1.421875 \r\nQ 18.265625 -1.421875 13.375 4.4375 \r\nQ 8.5 10.296875 8.5 21.578125 \r\nz\r\nM 31.109375 56 \r\nz\r\n\" id=\"DejaVuSans-117\"/>\r\n       <path d=\"M 45.40625 46.390625 \r\nL 45.40625 75.984375 \r\nL 54.390625 75.984375 \r\nL 54.390625 0 \r\nL 45.40625 0 \r\nL 45.40625 8.203125 \r\nQ 42.578125 3.328125 38.25 0.953125 \r\nQ 33.9375 -1.421875 27.875 -1.421875 \r\nQ 17.96875 -1.421875 11.734375 6.484375 \r\nQ 5.515625 14.40625 5.515625 27.296875 \r\nQ 5.515625 40.1875 11.734375 48.09375 \r\nQ 17.96875 56 27.875 56 \r\nQ 33.9375 56 38.25 53.625 \r\nQ 42.578125 51.265625 45.40625 46.390625 \r\nz\r\nM 14.796875 27.296875 \r\nQ 14.796875 17.390625 18.875 11.75 \r\nQ 22.953125 6.109375 30.078125 6.109375 \r\nQ 37.203125 6.109375 41.296875 11.75 \r\nQ 45.40625 17.390625 45.40625 27.296875 \r\nQ 45.40625 37.203125 41.296875 42.84375 \r\nQ 37.203125 48.484375 30.078125 48.484375 \r\nQ 22.953125 48.484375 18.875 42.84375 \r\nQ 14.796875 37.203125 14.796875 27.296875 \r\nz\r\n\" id=\"DejaVuSans-100\"/>\r\n      </defs>\r\n      <use xlink:href=\"#DejaVuSans-97\"/>\r\n      <use x=\"61.279297\" xlink:href=\"#DejaVuSans-109\"/>\r\n      <use x=\"158.691406\" xlink:href=\"#DejaVuSans-112\"/>\r\n      <use x=\"222.167969\" xlink:href=\"#DejaVuSans-108\"/>\r\n      <use x=\"249.951172\" xlink:href=\"#DejaVuSans-105\"/>\r\n      <use x=\"277.734375\" xlink:href=\"#DejaVuSans-116\"/>\r\n      <use x=\"316.943359\" xlink:href=\"#DejaVuSans-117\"/>\r\n      <use x=\"380.322266\" xlink:href=\"#DejaVuSans-100\"/>\r\n      <use x=\"443.798828\" xlink:href=\"#DejaVuSans-101\"/>\r\n     </g>\r\n    </g>\r\n   </g>\r\n   <g id=\"line2d_16\">\r\n    <path clip-path=\"url(#p12c0e13317)\" d=\"M 46.965625 198.340982 \r\nL 212.691625 198.340982 \r\nL 214.365625 94.798125 \r\nL 380.091625 94.798125 \r\nL 380.091625 94.798125 \r\n\" style=\"fill:none;stroke:#1f77b4;stroke-linecap:square;stroke-width:1.5;\"/>\r\n   </g>\r\n   <g id=\"line2d_17\">\r\n    <path clip-path=\"url(#p12c0e13317)\" d=\"M 46.965625 239.758125 \r\nL 48.639625 239.819463 \r\nL 50.313625 216.421691 \r\nL 51.987625 66.092563 \r\nL 51.987626 -1 \r\nM 53.661626 -1 \r\nL 53.661626 278.314375 \r\nM 57.009626 278.314375 \r\nL 57.009626 -1 \r\nM 60.357625 -1 \r\nL 60.357625 278.314375 \r\nM 62.03163 278.314375 \r\nL 62.03163 -1 \r\nM 65.379627 -1 \r\nL 65.379627 278.314375 \r\nM 68.727626 278.314375 \r\nL 68.727626 -1 \r\nM 72.075626 -1 \r\nL 72.075626 278.314375 \r\nM 75.423625 278.314375 \r\nL 75.423625 -1 \r\nM 77.097634 -1 \r\nL 77.097634 278.314375 \r\nM 80.445628 278.314375 \r\nL 80.445628 -1 \r\nM 83.793626 -1 \r\nL 83.793626 278.314375 \r\nM 87.141626 278.314375 \r\nL 87.141626 -1 \r\nM 90.489625 -1 \r\nL 90.489625 278.314375 \r\nM 92.163642 278.314375 \r\nL 92.163642 -1 \r\nM 95.511629 -1 \r\nL 95.511629 278.314375 \r\nM 98.859627 278.314375 \r\nL 98.859627 -1 \r\nM 102.207626 -1 \r\nL 102.207626 278.314375 \r\nM 105.555626 278.314375 \r\nL 105.555626 -1 \r\nM 107.229654 -1 \r\nL 107.229654 278.314375 \r\nM 110.57763 278.314375 \r\nL 110.57763 -1 \r\nM 113.925627 -1 \r\nL 113.925627 278.314375 \r\nM 117.273626 278.314375 \r\nL 117.273626 -1 \r\nM 120.621626 -1 \r\nL 120.621626 278.314375 \r\nM 123.969625 278.314375 \r\nL 123.969625 -1 \r\nM 125.643631 -1 \r\nL 125.643631 278.314375 \r\nM 128.991628 278.314375 \r\nL 128.991628 -1 \r\nL 128.991628 -1 \r\n\" style=\"fill:none;stroke:#ff7f0e;stroke-linecap:square;stroke-width:1.5;\"/>\r\n   </g>\r\n   <g id=\"line2d_18\">\r\n    <path clip-path=\"url(#p12c0e13317)\" d=\"M 46.965625 239.758125 \r\nL 48.639625 239.817221 \r\nL 51.987625 193.925226 \r\nL 53.661625 187.943089 \r\nL 55.335625 192.958012 \r\nL 57.009625 198.853457 \r\nL 58.683625 200.884707 \r\nL 60.357625 199.889262 \r\nL 62.031625 198.375481 \r\nL 63.705625 197.734974 \r\nL 65.379625 197.908427 \r\nL 67.053625 198.288772 \r\nL 68.727625 198.480886 \r\nL 87.141625 198.340051 \r\nL 214.365625 198.345122 \r\nL 216.039625 172.962215 \r\nL 217.713625 108.976658 \r\nL 219.387625 72.926544 \r\nL 221.061625 73.938249 \r\nL 222.735625 89.290385 \r\nL 224.409625 99.480189 \r\nL 226.083625 100.272189 \r\nL 227.757625 96.673985 \r\nL 229.431625 93.866808 \r\nL 231.105625 93.391847 \r\nL 234.453625 94.961104 \r\nL 236.127625 95.151647 \r\nL 241.149625 94.711284 \r\nL 249.519625 94.799639 \r\nL 277.977625 94.798129 \r\nL 380.091625 94.798125 \r\nL 380.091625 94.798125 \r\n\" style=\"fill:none;stroke:#2ca02c;stroke-linecap:square;stroke-width:1.5;\"/>\r\n   </g>\r\n   <g id=\"patch_3\">\r\n    <path d=\"M 46.965625 239.758125 \r\nL 46.965625 22.318125 \r\n\" style=\"fill:none;stroke:#000000;stroke-linecap:square;stroke-linejoin:miter;stroke-width:0.8;\"/>\r\n   </g>\r\n   <g id=\"patch_4\">\r\n    <path d=\"M 381.765625 239.758125 \r\nL 381.765625 22.318125 \r\n\" style=\"fill:none;stroke:#000000;stroke-linecap:square;stroke-linejoin:miter;stroke-width:0.8;\"/>\r\n   </g>\r\n   <g id=\"patch_5\">\r\n    <path d=\"M 46.965625 239.758125 \r\nL 381.765625 239.758125 \r\n\" style=\"fill:none;stroke:#000000;stroke-linecap:square;stroke-linejoin:miter;stroke-width:0.8;\"/>\r\n   </g>\r\n   <g id=\"patch_6\">\r\n    <path d=\"M 46.965625 22.318125 \r\nL 381.765625 22.318125 \r\n\" style=\"fill:none;stroke:#000000;stroke-linecap:square;stroke-linejoin:miter;stroke-width:0.8;\"/>\r\n   </g>\r\n   <g id=\"text_18\">\r\n    <!-- Setpoint-tracking -->\r\n    <g transform=\"translate(162.498438 16.318125)scale(0.12 -0.12)\">\r\n     <defs>\r\n      <path d=\"M 53.515625 70.515625 \r\nL 53.515625 60.890625 \r\nQ 47.90625 63.578125 42.921875 64.890625 \r\nQ 37.9375 66.21875 33.296875 66.21875 \r\nQ 25.25 66.21875 20.875 63.09375 \r\nQ 16.5 59.96875 16.5 54.203125 \r\nQ 16.5 49.359375 19.40625 46.890625 \r\nQ 22.3125 44.4375 30.421875 42.921875 \r\nL 36.375 41.703125 \r\nQ 47.40625 39.59375 52.65625 34.296875 \r\nQ 57.90625 29 57.90625 20.125 \r\nQ 57.90625 9.515625 50.796875 4.046875 \r\nQ 43.703125 -1.421875 29.984375 -1.421875 \r\nQ 24.8125 -1.421875 18.96875 -0.25 \r\nQ 13.140625 0.921875 6.890625 3.21875 \r\nL 6.890625 13.375 \r\nQ 12.890625 10.015625 18.65625 8.296875 \r\nQ 24.421875 6.59375 29.984375 6.59375 \r\nQ 38.421875 6.59375 43.015625 9.90625 \r\nQ 47.609375 13.234375 47.609375 19.390625 \r\nQ 47.609375 24.75 44.3125 27.78125 \r\nQ 41.015625 30.8125 33.5 32.328125 \r\nL 27.484375 33.5 \r\nQ 16.453125 35.6875 11.515625 40.375 \r\nQ 6.59375 45.0625 6.59375 53.421875 \r\nQ 6.59375 63.09375 13.40625 68.65625 \r\nQ 20.21875 74.21875 32.171875 74.21875 \r\nQ 37.3125 74.21875 42.625 73.28125 \r\nQ 47.953125 72.359375 53.515625 70.515625 \r\nz\r\n\" id=\"DejaVuSans-83\"/>\r\n      <path d=\"M 30.609375 48.390625 \r\nQ 23.390625 48.390625 19.1875 42.75 \r\nQ 14.984375 37.109375 14.984375 27.296875 \r\nQ 14.984375 17.484375 19.15625 11.84375 \r\nQ 23.34375 6.203125 30.609375 6.203125 \r\nQ 37.796875 6.203125 41.984375 11.859375 \r\nQ 46.1875 17.53125 46.1875 27.296875 \r\nQ 46.1875 37.015625 41.984375 42.703125 \r\nQ 37.796875 48.390625 30.609375 48.390625 \r\nz\r\nM 30.609375 56 \r\nQ 42.328125 56 49.015625 48.375 \r\nQ 55.71875 40.765625 55.71875 27.296875 \r\nQ 55.71875 13.875 49.015625 6.21875 \r\nQ 42.328125 -1.421875 30.609375 -1.421875 \r\nQ 18.84375 -1.421875 12.171875 6.21875 \r\nQ 5.515625 13.875 5.515625 27.296875 \r\nQ 5.515625 40.765625 12.171875 48.375 \r\nQ 18.84375 56 30.609375 56 \r\nz\r\n\" id=\"DejaVuSans-111\"/>\r\n      <path d=\"M 54.890625 33.015625 \r\nL 54.890625 0 \r\nL 45.90625 0 \r\nL 45.90625 32.71875 \r\nQ 45.90625 40.484375 42.875 44.328125 \r\nQ 39.84375 48.1875 33.796875 48.1875 \r\nQ 26.515625 48.1875 22.3125 43.546875 \r\nQ 18.109375 38.921875 18.109375 30.90625 \r\nL 18.109375 0 \r\nL 9.078125 0 \r\nL 9.078125 54.6875 \r\nL 18.109375 54.6875 \r\nL 18.109375 46.1875 \r\nQ 21.34375 51.125 25.703125 53.5625 \r\nQ 30.078125 56 35.796875 56 \r\nQ 45.21875 56 50.046875 50.171875 \r\nQ 54.890625 44.34375 54.890625 33.015625 \r\nz\r\n\" id=\"DejaVuSans-110\"/>\r\n      <path d=\"M 4.890625 31.390625 \r\nL 31.203125 31.390625 \r\nL 31.203125 23.390625 \r\nL 4.890625 23.390625 \r\nz\r\n\" id=\"DejaVuSans-45\"/>\r\n      <path d=\"M 41.109375 46.296875 \r\nQ 39.59375 47.171875 37.8125 47.578125 \r\nQ 36.03125 48 33.890625 48 \r\nQ 26.265625 48 22.1875 43.046875 \r\nQ 18.109375 38.09375 18.109375 28.8125 \r\nL 18.109375 0 \r\nL 9.078125 0 \r\nL 9.078125 54.6875 \r\nL 18.109375 54.6875 \r\nL 18.109375 46.1875 \r\nQ 20.953125 51.171875 25.484375 53.578125 \r\nQ 30.03125 56 36.53125 56 \r\nQ 37.453125 56 38.578125 55.875 \r\nQ 39.703125 55.765625 41.0625 55.515625 \r\nz\r\n\" id=\"DejaVuSans-114\"/>\r\n      <path d=\"M 48.78125 52.59375 \r\nL 48.78125 44.1875 \r\nQ 44.96875 46.296875 41.140625 47.34375 \r\nQ 37.3125 48.390625 33.40625 48.390625 \r\nQ 24.65625 48.390625 19.8125 42.84375 \r\nQ 14.984375 37.3125 14.984375 27.296875 \r\nQ 14.984375 17.28125 19.8125 11.734375 \r\nQ 24.65625 6.203125 33.40625 6.203125 \r\nQ 37.3125 6.203125 41.140625 7.25 \r\nQ 44.96875 8.296875 48.78125 10.40625 \r\nL 48.78125 2.09375 \r\nQ 45.015625 0.34375 40.984375 -0.53125 \r\nQ 36.96875 -1.421875 32.421875 -1.421875 \r\nQ 20.0625 -1.421875 12.78125 6.34375 \r\nQ 5.515625 14.109375 5.515625 27.296875 \r\nQ 5.515625 40.671875 12.859375 48.328125 \r\nQ 20.21875 56 33.015625 56 \r\nQ 37.15625 56 41.109375 55.140625 \r\nQ 45.0625 54.296875 48.78125 52.59375 \r\nz\r\n\" id=\"DejaVuSans-99\"/>\r\n      <path d=\"M 9.078125 75.984375 \r\nL 18.109375 75.984375 \r\nL 18.109375 31.109375 \r\nL 44.921875 54.6875 \r\nL 56.390625 54.6875 \r\nL 27.390625 29.109375 \r\nL 57.625 0 \r\nL 45.90625 0 \r\nL 18.109375 26.703125 \r\nL 18.109375 0 \r\nL 9.078125 0 \r\nz\r\n\" id=\"DejaVuSans-107\"/>\r\n      <path d=\"M 45.40625 27.984375 \r\nQ 45.40625 37.75 41.375 43.109375 \r\nQ 37.359375 48.484375 30.078125 48.484375 \r\nQ 22.859375 48.484375 18.828125 43.109375 \r\nQ 14.796875 37.75 14.796875 27.984375 \r\nQ 14.796875 18.265625 18.828125 12.890625 \r\nQ 22.859375 7.515625 30.078125 7.515625 \r\nQ 37.359375 7.515625 41.375 12.890625 \r\nQ 45.40625 18.265625 45.40625 27.984375 \r\nz\r\nM 54.390625 6.78125 \r\nQ 54.390625 -7.171875 48.1875 -13.984375 \r\nQ 42 -20.796875 29.203125 -20.796875 \r\nQ 24.46875 -20.796875 20.265625 -20.09375 \r\nQ 16.0625 -19.390625 12.109375 -17.921875 \r\nL 12.109375 -9.1875 \r\nQ 16.0625 -11.328125 19.921875 -12.34375 \r\nQ 23.78125 -13.375 27.78125 -13.375 \r\nQ 36.625 -13.375 41.015625 -8.765625 \r\nQ 45.40625 -4.15625 45.40625 5.171875 \r\nL 45.40625 9.625 \r\nQ 42.625 4.78125 38.28125 2.390625 \r\nQ 33.9375 0 27.875 0 \r\nQ 17.828125 0 11.671875 7.65625 \r\nQ 5.515625 15.328125 5.515625 27.984375 \r\nQ 5.515625 40.671875 11.671875 48.328125 \r\nQ 17.828125 56 27.875 56 \r\nQ 33.9375 56 38.28125 53.609375 \r\nQ 42.625 51.21875 45.40625 46.390625 \r\nL 45.40625 54.6875 \r\nL 54.390625 54.6875 \r\nz\r\n\" id=\"DejaVuSans-103\"/>\r\n     </defs>\r\n     <use xlink:href=\"#DejaVuSans-83\"/>\r\n     <use x=\"63.476562\" xlink:href=\"#DejaVuSans-101\"/>\r\n     <use x=\"125\" xlink:href=\"#DejaVuSans-116\"/>\r\n     <use x=\"164.208984\" xlink:href=\"#DejaVuSans-112\"/>\r\n     <use x=\"227.685547\" xlink:href=\"#DejaVuSans-111\"/>\r\n     <use x=\"288.867188\" xlink:href=\"#DejaVuSans-105\"/>\r\n     <use x=\"316.650391\" xlink:href=\"#DejaVuSans-110\"/>\r\n     <use x=\"380.029297\" xlink:href=\"#DejaVuSans-116\"/>\r\n     <use x=\"419.238281\" xlink:href=\"#DejaVuSans-45\"/>\r\n     <use x=\"455.322266\" xlink:href=\"#DejaVuSans-116\"/>\r\n     <use x=\"494.53125\" xlink:href=\"#DejaVuSans-114\"/>\r\n     <use x=\"535.644531\" xlink:href=\"#DejaVuSans-97\"/>\r\n     <use x=\"596.923828\" xlink:href=\"#DejaVuSans-99\"/>\r\n     <use x=\"651.904297\" xlink:href=\"#DejaVuSans-107\"/>\r\n     <use x=\"709.814453\" xlink:href=\"#DejaVuSans-105\"/>\r\n     <use x=\"737.597656\" xlink:href=\"#DejaVuSans-110\"/>\r\n     <use x=\"800.976562\" xlink:href=\"#DejaVuSans-103\"/>\r\n    </g>\r\n   </g>\r\n   <g id=\"legend_1\">\r\n    <g id=\"patch_7\">\r\n     <path d=\"M 242.170313 74.90875 \r\nL 374.765625 74.90875 \r\nQ 376.765625 74.90875 376.765625 72.90875 \r\nL 376.765625 29.318125 \r\nQ 376.765625 27.318125 374.765625 27.318125 \r\nL 242.170313 27.318125 \r\nQ 240.170313 27.318125 240.170313 29.318125 \r\nL 240.170313 72.90875 \r\nQ 240.170313 74.90875 242.170313 74.90875 \r\nz\r\n\" style=\"fill:#ffffff;opacity:0.8;stroke:#cccccc;stroke-linejoin:miter;\"/>\r\n    </g>\r\n    <g id=\"line2d_19\">\r\n     <path d=\"M 244.170313 35.416562 \r\nL 264.170313 35.416562 \r\n\" style=\"fill:none;stroke:#1f77b4;stroke-linecap:square;stroke-width:1.5;\"/>\r\n    </g>\r\n    <g id=\"line2d_20\"/>\r\n    <g id=\"text_19\">\r\n     <!-- input -->\r\n     <g transform=\"translate(272.170313 38.916562)scale(0.1 -0.1)\">\r\n      <use xlink:href=\"#DejaVuSans-105\"/>\r\n      <use x=\"27.783203\" xlink:href=\"#DejaVuSans-110\"/>\r\n      <use x=\"91.162109\" xlink:href=\"#DejaVuSans-112\"/>\r\n      <use x=\"154.638672\" xlink:href=\"#DejaVuSans-117\"/>\r\n      <use x=\"218.017578\" xlink:href=\"#DejaVuSans-116\"/>\r\n     </g>\r\n    </g>\r\n    <g id=\"line2d_21\">\r\n     <path d=\"M 244.170313 50.094687 \r\nL 264.170313 50.094687 \r\n\" style=\"fill:none;stroke:#ff7f0e;stroke-linecap:square;stroke-width:1.5;\"/>\r\n    </g>\r\n    <g id=\"line2d_22\"/>\r\n    <g id=\"text_20\">\r\n     <!-- output_controlled -->\r\n     <g transform=\"translate(272.170313 53.594687)scale(0.1 -0.1)\">\r\n      <defs>\r\n       <path d=\"M 50.984375 -16.609375 \r\nL 50.984375 -23.578125 \r\nL -0.984375 -23.578125 \r\nL -0.984375 -16.609375 \r\nz\r\n\" id=\"DejaVuSans-95\"/>\r\n      </defs>\r\n      <use xlink:href=\"#DejaVuSans-111\"/>\r\n      <use x=\"61.181641\" xlink:href=\"#DejaVuSans-117\"/>\r\n      <use x=\"124.560547\" xlink:href=\"#DejaVuSans-116\"/>\r\n      <use x=\"163.769531\" xlink:href=\"#DejaVuSans-112\"/>\r\n      <use x=\"227.246094\" xlink:href=\"#DejaVuSans-117\"/>\r\n      <use x=\"290.625\" xlink:href=\"#DejaVuSans-116\"/>\r\n      <use x=\"329.833984\" xlink:href=\"#DejaVuSans-95\"/>\r\n      <use x=\"379.833984\" xlink:href=\"#DejaVuSans-99\"/>\r\n      <use x=\"434.814453\" xlink:href=\"#DejaVuSans-111\"/>\r\n      <use x=\"495.996094\" xlink:href=\"#DejaVuSans-110\"/>\r\n      <use x=\"559.375\" xlink:href=\"#DejaVuSans-116\"/>\r\n      <use x=\"598.583984\" xlink:href=\"#DejaVuSans-114\"/>\r\n      <use x=\"637.447266\" xlink:href=\"#DejaVuSans-111\"/>\r\n      <use x=\"698.628906\" xlink:href=\"#DejaVuSans-108\"/>\r\n      <use x=\"726.412109\" xlink:href=\"#DejaVuSans-108\"/>\r\n      <use x=\"754.195312\" xlink:href=\"#DejaVuSans-101\"/>\r\n      <use x=\"815.71875\" xlink:href=\"#DejaVuSans-100\"/>\r\n     </g>\r\n    </g>\r\n    <g id=\"line2d_23\">\r\n     <path d=\"M 244.170313 65.050937 \r\nL 264.170313 65.050937 \r\n\" style=\"fill:none;stroke:#2ca02c;stroke-linecap:square;stroke-width:1.5;\"/>\r\n    </g>\r\n    <g id=\"line2d_24\"/>\r\n    <g id=\"text_21\">\r\n     <!-- output_uncontrolled -->\r\n     <g transform=\"translate(272.170313 68.550937)scale(0.1 -0.1)\">\r\n      <use xlink:href=\"#DejaVuSans-111\"/>\r\n      <use x=\"61.181641\" xlink:href=\"#DejaVuSans-117\"/>\r\n      <use x=\"124.560547\" xlink:href=\"#DejaVuSans-116\"/>\r\n      <use x=\"163.769531\" xlink:href=\"#DejaVuSans-112\"/>\r\n      <use x=\"227.246094\" xlink:href=\"#DejaVuSans-117\"/>\r\n      <use x=\"290.625\" xlink:href=\"#DejaVuSans-116\"/>\r\n      <use x=\"329.833984\" xlink:href=\"#DejaVuSans-95\"/>\r\n      <use x=\"379.833984\" xlink:href=\"#DejaVuSans-117\"/>\r\n      <use x=\"443.212891\" xlink:href=\"#DejaVuSans-110\"/>\r\n      <use x=\"506.591797\" xlink:href=\"#DejaVuSans-99\"/>\r\n      <use x=\"561.572266\" xlink:href=\"#DejaVuSans-111\"/>\r\n      <use x=\"622.753906\" xlink:href=\"#DejaVuSans-110\"/>\r\n      <use x=\"686.132812\" xlink:href=\"#DejaVuSans-116\"/>\r\n      <use x=\"725.341797\" xlink:href=\"#DejaVuSans-114\"/>\r\n      <use x=\"764.205078\" xlink:href=\"#DejaVuSans-111\"/>\r\n      <use x=\"825.386719\" xlink:href=\"#DejaVuSans-108\"/>\r\n      <use x=\"853.169922\" xlink:href=\"#DejaVuSans-108\"/>\r\n      <use x=\"880.953125\" xlink:href=\"#DejaVuSans-101\"/>\r\n      <use x=\"942.476562\" xlink:href=\"#DejaVuSans-100\"/>\r\n     </g>\r\n    </g>\r\n   </g>\r\n  </g>\r\n </g>\r\n <defs>\r\n  <clipPath id=\"p12c0e13317\">\r\n   <rect height=\"217.44\" width=\"334.8\" x=\"46.965625\" y=\"22.318125\"/>\r\n  </clipPath>\r\n </defs>\r\n</svg>\r\n",
      "image/png": "[encoded data removed]"
     },
     "metadata": {
      "needs_background": "light"
     }
    }
   ],
   "source": [
    "plot_prest(sys_response)"
   ]
  },
  {
   "cell_type": "code",
   "execution_count": 28,
   "metadata": {},
   "outputs": [
    {
     "data": {
      "text/plain": [
       "<matplotlib.legend.Legend at 0x7f71858929d0>"
      ]
     },
     "execution_count": 28,
     "metadata": {},
     "output_type": "execute_result"
    },
    {
     "data": {
      "image/png": "[encoded data removed]",
      "text/plain": [
       "<Figure size 432x288 with 1 Axes>"
      ]
     },
     "metadata": {
      "needs_background": "light"
     },
     "output_type": "display_data"
    }
   ],
   "source": [
    "t, y = c.step_response(C)\n",
    "tt, yy = c.step_response(c.tf([689.5, 0.6895],[1, 0]))\n",
    "plt.plot(t,y)\n",
    "plt.plot(tt,yy)\n",
    "plt.legend(['real','est'])"
   ]
  },
  {
   "cell_type": "code",
   "execution_count": 30,
   "metadata": {},
   "outputs": [
    {
     "data": {
      "text/plain": [
       "[[array([689.52380952,   0.68952381])]]"
      ]
     },
     "execution_count": 30,
     "metadata": {},
     "output_type": "execute_result"
    }
   ],
   "source": [
    "# Calculate Kp, Ki and Kd for a resulting controller C\n",
    "C.num\n",
    "C.den\n"
   ]
  }
 ],
 "metadata": {
  "kernelspec": {
   "name": "python388jvsc74a57bd00b4750a8cbe84140a07c747b23b158ce10fb0d0100cf8477211f9bde6e28d84b",
   "display_name": "Python 3.8.8 64-bit ('widget': conda)"
  },
  "language_info": {
   "codemirror_mode": {
    "name": "ipython",
    "version": 3
   },
   "file_extension": ".py",
   "mimetype": "text/x-python",
   "name": "python",
   "nbconvert_exporter": "python",
   "pygments_lexer": "ipython3",
   "version": "3.8.8"
  }
 },
 "nbformat": 4,
 "nbformat_minor": 2
}