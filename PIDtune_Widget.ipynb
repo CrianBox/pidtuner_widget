{
 "cells": [
  {
   "cell_type": "code",
   "execution_count": 188,
   "metadata": {},
   "outputs": [],
   "source": [
    "from __future__ import print_function\n",
    "from ipywidgets import interact, interactive, fixed, interact_manual\n",
    "\n",
    "import control as c\n",
    "from control.matlab import * \n",
    "\n",
    "%matplotlib inline\n",
    "import matplotlib.pyplot as plt\n",
    "\n",
    "import numpy as np\n",
    "import math\n",
    "import ipywidgets as widgets\n"
   ]
  },
  {
   "cell_type": "markdown",
   "metadata": {},
   "source": [
    "## Functies"
   ]
  },
  {
   "cell_type": "code",
   "execution_count": 302,
   "metadata": {},
   "outputs": [],
   "source": [
    "#  Ontwerp het proces\n",
    "def ontw_proces(z0, z1, p0, p1, p2, dodet):\n",
    "    s = c.TransferFunction.s\n",
    "    G = (z1*s + z0) / (p2*(s**2) + p1*s + p0)\n",
    "    return G\n",
    "    \n",
    "# Ontwerp de regelaar    \n",
    "def ontw_regelaar(Kp, Ti, Td):\n",
    "    s = c.TransferFunction.s\n",
    "    C = Kp * (1 + (1/(Ti*s)) + (Td*s))\n",
    "    return C\n",
    "\n",
    "# Visualiseer het stapantwoord van het proces\n",
    "def f(z0, z1, p0, p1, p2, dodet):\n",
    "    #ontw_proces(z0, z1, p0, p1, p2, dodet)\n",
    "    s = c.TransferFunction.s\n",
    "    G = (z1*s + z0) / (p2*(s**2) + p1*s + p0)\n",
    "    T,y = c.step_response(G)\n",
    "    plt.plot(T, np.ones(len(T)),'r--')\n",
    "    Tdodet = T + dodet\n",
    "    plt.plot(Tdodet, y)\n",
    "    plt.xlim(0,10)\n",
    "    plt.ylim(0,2)\n",
    "    plt.xlabel('tijd[s]')\n",
    "    plt.ylabel('amplitude[-]')\n",
    "    plt.title('Open lus proces stapantwoord')\n",
    "    print('Transferfunctie model: ',G)\n",
    "    \n",
    "# Visualiseer OL met stapantwoord\n",
    "def vis_sys(C,G):\n",
    "    sys = olsys(C,G)\n",
    "    T,y = c.step_response(sys)\n",
    "    plt.plot(T, np.ones(len(T)),'r--')\n",
    "    plt.plot(T, y)\n",
    "    plt.xlim(0,10)\n",
    "    plt.ylim(0,2)\n",
    "    plt.xlabel('tijd[s]')\n",
    "    plt.ylabel('amplitude[-]')\n",
    "    plt.title('Open lus proces stapantwoord')\n",
    "    print('Systeem', sys)\n",
    "    \n",
    "# Visualiseer afstellen OL met stapantwoord\n",
    "def vis_sys_tune(z0, z1, p0, p1, p2, dodet, Kp, Ti, Td):\n",
    "#     G = ontw_proces(z0.value, z1.value, p0.value, p1.value, p2.value, dodet.value) \n",
    "#     C = ontw_regelaar(Kp.value, Ti.value, Td.value)\n",
    "    G = ontw_proces(z0, z1, p0, p1, p2, dodet) \n",
    "    C = ontw_regelaar(Kp, Ti, Td)\n",
    "    sys = c.series(C,G)\n",
    "    T,y = c.step_response(sys)\n",
    "    plt.plot(T, np.ones(len(T)),'r--')\n",
    "    plt.plot(T, y)\n",
    "    plt.xlim(0,10)\n",
    "    plt.ylim(0,2)\n",
    "    plt.xlabel('tijd[s]')\n",
    "    plt.ylabel('amplitude[-]')\n",
    "    plt.title('Open lus proces stapantwoord')\n",
    "    print('Proces', G)\n",
    "    print('Regelaar', C)\n",
    "    print('Systeem', sys)    \n",
    "\n",
    "# Maak een gesloten-lus systeem\n",
    "def clsys(C,G,H):\n",
    "    sys = c.parallel(c.series(C,G), H)\n",
    "    return sys\n",
    "\n",
    "# Analyseer het systeem\n",
    "def systeemanalyse(sys):\n",
    "    step(sys)\n",
    "    impulse(sys)\n",
    "    bode(sys)\n",
    "    nyquist(sys)\n",
    "    margin(sys)\n",
    "    #sisotool(sys)\n",
    "    return\n",
    "\n",
    "# Geeft de procedure details weer\n",
    "# def printprocedure(methode):\n",
    "#     if methode == methodes[0]:\n",
    "#     break"
   ]
  },
  {
   "cell_type": "code",
   "execution_count": 286,
   "metadata": {},
   "outputs": [],
   "source": [
    "# procedures\n",
    "class procedures:\n",
    "    \"\"\"Class met stappenplannen voor verschillende afstelregels\"\"\"\n",
    "    def __init__(self):\n",
    "        self.data = []\n",
    "        \n",
    "    def stp_intuitie(self):\n",
    "        txt = '''\n",
    "            Enkele vuistregels:\n",
    "            De proportionele versterking vergroten zal de stabiliteit verlagen.\n",
    "            * De error zal sneller verkleinen wanneer de integratietijd vergroot.\n",
    "            * De T_i (= integratietijd) verlagen zal de stabiliteit verlagen.\n",
    "            * De T_d (= afgeleidetijd) verhogen zal de stabiliteit verhogen.\n",
    "            * Elimineer alle componenten die onnodige fasevertraging kunnen veroorzaken, want deze hebben een groot effect op de fasemarge. Enkele voorbeelden zijn filters en versterkers.\n",
    "            * In een **cascade** systeem regelen we eerst de binnenlus en dan pas de buitenlus. De binnenlus werkt op een hogere frequentie en is vergelijkbaar met een laag-doorlaat filter.)\n",
    "\n",
    "            '''\n"
   ]
  },
  {
   "cell_type": "markdown",
   "metadata": {},
   "source": [
    "## Kies HOE je de regelaar wilt afstellen"
   ]
  },
  {
   "cell_type": "code",
   "execution_count": 287,
   "metadata": {},
   "outputs": [
    {
     "data": {
      "application/vnd.jupyter.widget-view+json": {
       "model_id": "fc4a38892ef74ad286e0106162918ec1",
       "version_major": 2,
       "version_minor": 0
      },
      "text/plain": [
       "Select(description='Methode:', options=('Intuïtie', 'Empirische procedure', 'Afstelkaart', 'Transient respons …"
      ]
     },
     "metadata": {},
     "output_type": "display_data"
    }
   ],
   "source": [
    "# kies de methode waarmee je de PID wilt afstellen\n",
    "methodes = ['Intuïtie', \n",
    "             'Empirische procedure',\n",
    "            'Afstelkaart',\n",
    "             'Transient respons Z-N', \n",
    "             'Transient respons CHR', \n",
    "             'Transient respons C-C',\n",
    "             '']\n",
    "\n",
    "choise = widgets.Select(\n",
    "    options= methodes,\n",
    "    rows=8,\n",
    "    description='Methode:',\n",
    "    disabled=False\n",
    ")\n",
    "choise"
   ]
  },
  {
   "cell_type": "markdown",
   "metadata": {},
   "source": [
    "## Stel het procesmodel in "
   ]
  },
  {
   "cell_type": "code",
   "execution_count": 288,
   "metadata": {},
   "outputs": [
    {
     "name": "stdout",
     "output_type": "stream",
     "text": [
      "Proces:\n"
     ]
    },
    {
     "data": {
      "application/vnd.jupyter.widget-view+json": {
       "model_id": "0574893d57bc4fa1b95d11cf88b15b37",
       "version_major": 2,
       "version_minor": 0
      },
      "text/plain": [
       "HBox(children=(VBox(children=(FloatSlider(value=1.0, description='z0', max=5.0), FloatSlider(value=1.0, descri…"
      ]
     },
     "metadata": {},
     "output_type": "display_data"
    }
   ],
   "source": [
    "# parameters\n",
    "minim = 0\n",
    "maxim = 5\n",
    "steps = 0.1\n",
    "z0 = widgets.FloatSlider(description = 'z0', value=1, min=minim, max=maxim)\n",
    "z1 = widgets.FloatSlider(description = 'z1', value=1, min=minim, max=maxim)\n",
    "p0 = widgets.FloatSlider(description = 'p0', value=1, min=minim, max=maxim)\n",
    "p1 = widgets.FloatSlider(description = 'p1', value=1, min=minim, max=maxim)\n",
    "p2 = widgets.FloatSlider(description = 'p2',  value=1, min=minim, max=maxim)\n",
    "dodet = widgets.FloatSlider(description = 'dodet', value=0, min=minim, max=maxim)\n",
    "\n",
    "# Visualiseer\n",
    "print('Proces:')\n",
    "out = widgets.interactive_output(f,\n",
    "                                 {'z0': z0,\n",
    "                                  'z1': z1,\n",
    "                                  'p0': p0,\n",
    "                                 'p1': p1,\n",
    "                                 'p2': p2,\n",
    "                                 'dodet': dodet})\n",
    "widgets.HBox([widgets.VBox([z0, z1, p0, p1, p2, dodet]), out])"
   ]
  },
  {
   "cell_type": "markdown",
   "metadata": {},
   "source": [
    "## Stel nu een P(I, D) controller samen"
   ]
  },
  {
   "cell_type": "code",
   "execution_count": 299,
   "metadata": {},
   "outputs": [
    {
     "name": "stdout",
     "output_type": "stream",
     "text": [
      "PID regelaar versterking:\n"
     ]
    },
    {
     "data": {
      "application/vnd.jupyter.widget-view+json": {
       "model_id": "7e242b869972416f956a3857c7652827",
       "version_major": 2,
       "version_minor": 0
      },
      "text/plain": [
       "HBox(children=(VBox(children=(FloatSlider(value=1.0, description='Proportioneel', max=5.0), FloatSlider(value=…"
      ]
     },
     "metadata": {},
     "output_type": "display_data"
    }
   ],
   "source": [
    "Kp = widgets.FloatSlider(description = 'Proportioneel', value=1, min=minim, max=maxim)\n",
    "Ti = widgets.FloatSlider(description = 'Intergratietijd', value=1, min=0, max=100)\n",
    "Td = widgets.FloatSlider(description = 'Afgeleidetijd', value=1, min=0, max=100)\n",
    "\n",
    "print('PID regelaar versterking:')\n",
    "out = widgets.interactive_output(ontw_regelaar,\n",
    "                                 {'Kp': Kp, 'Ti': Ti, 'Td': Td})\n",
    "\n",
    "widgets.HBox([widgets.VBox([Kp, Ti, Td]), out])"
   ]
  },
  {
   "cell_type": "markdown",
   "metadata": {},
   "source": [
    "## Intuïtief afstellen"
   ]
  },
  {
   "cell_type": "code",
   "execution_count": 303,
   "metadata": {},
   "outputs": [
    {
     "data": {
      "application/vnd.jupyter.widget-view+json": {
       "model_id": "5bd4ee450e104c92ba75fd6868d1ef11",
       "version_major": 2,
       "version_minor": 0
      },
      "text/plain": [
       "HBox(children=(VBox(children=(FloatSlider(value=1.0, description='z0', max=5.0), FloatSlider(value=1.0, descri…"
      ]
     },
     "metadata": {},
     "output_type": "display_data"
    }
   ],
   "source": [
    "z0 = widgets.FloatSlider(description = 'z0', value=1, min=minim, max=maxim)\n",
    "z1 = widgets.FloatSlider(description = 'z1', value=1, min=minim, max=maxim)\n",
    "p0 = widgets.FloatSlider(description = 'p0', value=1, min=minim, max=maxim)\n",
    "p1 = widgets.FloatSlider(description = 'p1', value=1, min=minim, max=maxim)\n",
    "p2 = widgets.FloatSlider(description = 'p2',  value=1, min=minim, max=maxim)\n",
    "dodet = widgets.FloatSlider(description = 'dodet', value=0, min=minim, max=maxim)\n",
    "\n",
    "Kp = widgets.FloatSlider(description = 'Proportioneel', value=1, min=minim, max=maxim)\n",
    "Ti = widgets.FloatSlider(description = 'Intergratietijd', value=1, min=0, max=100)\n",
    "Td = widgets.FloatSlider(description = 'Afgeleidetijd', value=1, min=0, max=100)\n",
    "\n",
    "out = widgets.interactive_output(vis_sys_tune,\n",
    "                                 {'z0': z0,\n",
    "                                  'z1': z1,\n",
    "                                  'p0': p0,\n",
    "                                 'p1': p1,\n",
    "                                 'p2': p2,\n",
    "                                 'dodet': dodet,\n",
    "                                  'Kp': Kp, \n",
    "                                  'Ti': Ti, \n",
    "                                  'Td': Td})\n",
    "\n",
    "widgets.HBox([widgets.VBox([z0, z1, p0, p1, p2, dodet, Kp, Ti, Td]), out])"
   ]
  },
  {
   "cell_type": "code",
   "execution_count": null,
   "metadata": {},
   "outputs": [],
   "source": [
    "# bronnen \n",
    "# https://ipywidgets.readthedocs.io/en/stable/examples/Using%20Interact.html\n",
    "# https://python-control.readthedocs.io/en/0.8.3/conventions.html1\n",
    "# https://www.youtube.com/watch?v=8IYbdshUd9c\n"
   ]
  }
 ],
 "metadata": {
  "kernelspec": {
   "display_name": "Python 3",
   "language": "python",
   "name": "python3"
  },
  "language_info": {
   "codemirror_mode": {
    "name": "ipython",
    "version": 3
   },
   "file_extension": ".py",
   "mimetype": "text/x-python",
   "name": "python",
   "nbconvert_exporter": "python",
   "pygments_lexer": "ipython3",
   "version": "3.9.2"
  }
 },
 "nbformat": 4,
 "nbformat_minor": 2
}